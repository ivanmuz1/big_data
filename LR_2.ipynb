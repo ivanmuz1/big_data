{
  "cells": [
    {
      "cell_type": "code",
      "source": [
        "!pip3 install pyspark==3.0.0"
      ],
      "metadata": {
        "colab": {
          "base_uri": "https://localhost:8080/"
        },
        "id": "_OsqKJ4jJnay",
        "outputId": "f2240722-8b64-4546-9c4f-effc1578b706"
      },
      "id": "_OsqKJ4jJnay",
      "execution_count": 1,
      "outputs": [
        {
          "output_type": "stream",
          "name": "stdout",
          "text": [
            "Collecting pyspark==3.0.0\n",
            "  Downloading pyspark-3.0.0.tar.gz (204.7 MB)\n",
            "\u001b[2K     \u001b[90m━━━━━━━━━━━━━━━━━━━━━━━━━━━━━━━━━━━━━━━━\u001b[0m \u001b[32m204.7/204.7 MB\u001b[0m \u001b[31m4.0 MB/s\u001b[0m eta \u001b[36m0:00:00\u001b[0m\n",
            "\u001b[?25h  Preparing metadata (setup.py) ... \u001b[?25l\u001b[?25hdone\n",
            "Collecting py4j==0.10.9 (from pyspark==3.0.0)\n",
            "  Downloading py4j-0.10.9-py2.py3-none-any.whl (198 kB)\n",
            "\u001b[2K     \u001b[90m━━━━━━━━━━━━━━━━━━━━━━━━━━━━━━━━━━━━━━━━\u001b[0m \u001b[32m198.6/198.6 kB\u001b[0m \u001b[31m12.7 MB/s\u001b[0m eta \u001b[36m0:00:00\u001b[0m\n",
            "\u001b[?25hBuilding wheels for collected packages: pyspark\n",
            "  Building wheel for pyspark (setup.py) ... \u001b[?25l\u001b[?25hdone\n",
            "  Created wheel for pyspark: filename=pyspark-3.0.0-py2.py3-none-any.whl size=205044159 sha256=f1c4655b585c9257f65bd563cba6bc3fccedca8ab64630df60146a3153bd8078\n",
            "  Stored in directory: /root/.cache/pip/wheels/b1/bb/8b/ca24d3f756f2ed967225b0871898869db676eb5846df5adc56\n",
            "Successfully built pyspark\n",
            "Installing collected packages: py4j, pyspark\n",
            "  Attempting uninstall: py4j\n",
            "    Found existing installation: py4j 0.10.9.7\n",
            "    Uninstalling py4j-0.10.9.7:\n",
            "      Successfully uninstalled py4j-0.10.9.7\n",
            "Successfully installed py4j-0.10.9 pyspark-3.0.0\n"
          ]
        }
      ]
    },
    {
      "cell_type": "code",
      "execution_count": 2,
      "id": "377ad44c-9c34-4abf-a09c-f9f00a7afbb1",
      "metadata": {
        "id": "377ad44c-9c34-4abf-a09c-f9f00a7afbb1"
      },
      "outputs": [],
      "source": [
        "import os\n",
        "from pyspark import SparkContext, SparkConf\n",
        "from pyspark.sql import SparkSession\n",
        "from pyspark.sql.functions import col\n",
        "import pyspark.sql as sql\n",
        "import xml.etree.ElementTree as ET\n",
        "from pyspark.sql.functions import explode\n",
        "from pyspark.sql import Window\n",
        "from pyspark.sql.functions import row_number"
      ]
    },
    {
      "cell_type": "code",
      "execution_count": 3,
      "id": "f390b8b8-ff3b-4a55-8038-72df4886b1ef",
      "metadata": {
        "id": "f390b8b8-ff3b-4a55-8038-72df4886b1ef"
      },
      "outputs": [],
      "source": [
        "os.environ['PYSPARK_SUBMIT_ARGS'] = '--packages com.databricks:spark-xml_2.12:0.14.0 pyspark-shell'"
      ]
    },
    {
      "cell_type": "code",
      "execution_count": 4,
      "id": "93da5bbf-5795-402d-b1a0-9b36f319d546",
      "metadata": {
        "colab": {
          "base_uri": "https://localhost:8080/",
          "height": 196
        },
        "id": "93da5bbf-5795-402d-b1a0-9b36f319d546",
        "outputId": "d2e6d8ac-2779-49b6-d979-a6cf51a3a28f"
      },
      "outputs": [
        {
          "output_type": "execute_result",
          "data": {
            "text/plain": [
              "<SparkContext master=local[*] appName=pyspark-shell>"
            ],
            "text/html": [
              "\n",
              "        <div>\n",
              "            <p><b>SparkContext</b></p>\n",
              "\n",
              "            <p><a href=\"http://fe97a52471fd:4040\">Spark UI</a></p>\n",
              "\n",
              "            <dl>\n",
              "              <dt>Version</dt>\n",
              "                <dd><code>v3.0.0</code></dd>\n",
              "              <dt>Master</dt>\n",
              "                <dd><code>local[*]</code></dd>\n",
              "              <dt>AppName</dt>\n",
              "                <dd><code>pyspark-shell</code></dd>\n",
              "            </dl>\n",
              "        </div>\n",
              "        "
            ]
          },
          "metadata": {},
          "execution_count": 4
        }
      ],
      "source": [
        "try:\n",
        "    sc = SparkContext.getOrCreate()\n",
        "    sc.setLogLevel(\"ERROR\")\n",
        "except:\n",
        "    conf = SparkConf().setAppName(\"Lab2\").setMaster('local[1]')\n",
        "    sc = SparkContext(conf=conf)\n",
        "    sc.setLogLevel(\"ERROR\")\n",
        "spark = SparkSession(sc)\n",
        "\n",
        "sc"
      ]
    },
    {
      "cell_type": "code",
      "source": [
        "import requests\n",
        "\n",
        "with open(\"posts_sample.xml\", \"wb\") as f:\n",
        "    request = requests.get(\"https://git.ai.ssau.ru/tk/big_data/raw/branch/bachelor/data/posts_sample.xml\")\n",
        "    f.write(request.content)\n",
        "\n",
        "with open(\"programming-languages.csv\", \"wb\") as f:\n",
        "    request = requests.get(\"https://git.ai.ssau.ru/tk/big_data/raw/branch/bachelor/data/programming-languages.csv\")\n",
        "    f.write(request.content)"
      ],
      "metadata": {
        "id": "yb_KSAItJs1P"
      },
      "id": "yb_KSAItJs1P",
      "execution_count": 5,
      "outputs": []
    },
    {
      "cell_type": "code",
      "execution_count": 6,
      "id": "658c3b55-ff05-46f9-b29c-97aec9c7c4cc",
      "metadata": {
        "id": "658c3b55-ff05-46f9-b29c-97aec9c7c4cc"
      },
      "outputs": [],
      "source": [
        "postsSample = spark.read.format('xml')\\\n",
        ".option('rootTag', 'posts')\\\n",
        ".option('rowTag', 'row')\\\n",
        ".load(\"posts_sample.xml\")"
      ]
    },
    {
      "cell_type": "code",
      "execution_count": 7,
      "id": "fa601cb9-4e9e-4132-a01d-0920aac53536",
      "metadata": {
        "colab": {
          "base_uri": "https://localhost:8080/"
        },
        "id": "fa601cb9-4e9e-4132-a01d-0920aac53536",
        "outputId": "a0c9b831-5c88-4882-d61c-7348211ef0b3"
      },
      "outputs": [
        {
          "output_type": "execute_result",
          "data": {
            "text/plain": [
              "DataFrame[name: string, wikipedia_url: string]"
            ]
          },
          "metadata": {},
          "execution_count": 7
        }
      ],
      "source": [
        "languages = spark.read\\\n",
        ".option(\"header\", True)\\\n",
        ".option(\"inferSchema\", True)\\\n",
        ".csv(\"programming-languages.csv\")\n",
        "\n",
        "languages"
      ]
    },
    {
      "cell_type": "code",
      "execution_count": 8,
      "id": "dc61c2bb-9155-4029-bd43-f77927a71ab4",
      "metadata": {
        "id": "dc61c2bb-9155-4029-bd43-f77927a71ab4"
      },
      "outputs": [],
      "source": [
        "postsSample_DF = postsSample.select(\"_CreationDate\", \"_ViewCount\", \"_Tags\")"
      ]
    },
    {
      "cell_type": "code",
      "execution_count": 9,
      "id": "5ad5bfef-b78b-4162-bb49-67dd3f6b9240",
      "metadata": {
        "colab": {
          "base_uri": "https://localhost:8080/"
        },
        "id": "5ad5bfef-b78b-4162-bb49-67dd3f6b9240",
        "outputId": "5ac7fe21-702b-4c65-ee2e-4554ea1d32c3"
      },
      "outputs": [
        {
          "output_type": "stream",
          "name": "stdout",
          "text": [
            "+----+-----+--------------------+\n",
            "|year|views|           languages|\n",
            "+----+-----+--------------------+\n",
            "|2010| 3650|[c++, character-e...|\n",
            "|2010|  617|[sharepoint, info...|\n",
            "|2010| 1315|[iphone, app-stor...|\n",
            "|2010|  973|[symfony1, schema...|\n",
            "|2010|  132|              [java]|\n",
            "|2010|  419|[visual-studio-20...|\n",
            "|2010|  869|[cakephp, file-up...|\n",
            "|2010| 1303|[git, cygwin, putty]|\n",
            "|2010|  748|  [drupal, drupal-6]|\n",
            "|2010| 1258|[php, wordpress, ...|\n",
            "|2010|14972|[c#, winforms, da...|\n",
            "|2010|  274|[c#, asp.net, exc...|\n",
            "|2010|  804|    [sql, xml, blob]|\n",
            "|2010| 6019|[.htaccess, codei...|\n",
            "|2010| 5456|[wcf, web-service...|\n",
            "|2010|  316|[mod-rewrite, apa...|\n",
            "|2010|15477|[sql, database, d...|\n",
            "|2010| 9649|         [ruby, rvm]|\n",
            "|2010|20199|  [android, eclipse]|\n",
            "|2010|  735|[iphone, uiimagev...|\n",
            "+----+-----+--------------------+\n",
            "only showing top 20 rows\n",
            "\n"
          ]
        }
      ],
      "source": [
        "parsedPosts_sample = (\n",
        "    postsSample_DF\n",
        "    .filter(col(\"_Tags\").isNotNull())\n",
        "    .rdd\n",
        "    .map(lambda x: (str(x[\"_CreationDate\"]).split('-')[0], x[\"_ViewCount\"], x[\"_Tags\"][1:-1].split('><')))\n",
        "    .toDF([\"year\", \"views\", \"languages\"])\n",
        ")\n",
        "\n",
        "parsedPosts_sample = parsedPosts_sample.filter((col(\"year\") >= 2010) & (col(\"year\") <= 2020))\n",
        "\n",
        "parsedPosts_sample.show()"
      ]
    },
    {
      "cell_type": "code",
      "execution_count": 10,
      "id": "dad66302-dc0f-41f3-b3b4-bd8a25fc9021",
      "metadata": {
        "colab": {
          "base_uri": "https://localhost:8080/"
        },
        "id": "dad66302-dc0f-41f3-b3b4-bd8a25fc9021",
        "outputId": "548d3422-02f7-4b79-d2c5-f8afdb6cc5a2"
      },
      "outputs": [
        {
          "output_type": "stream",
          "name": "stdout",
          "text": [
            "+----+-----+-----------+\n",
            "|year|views|   language|\n",
            "+----+-----+-----------+\n",
            "|2010|  132|       java|\n",
            "|2010| 1258|        php|\n",
            "|2010| 9649|       ruby|\n",
            "|2010| 2384|          c|\n",
            "|2010| 1987|        php|\n",
            "|2010| 3321|     python|\n",
            "|2010|  128| javascript|\n",
            "|2010|  477|applescript|\n",
            "|2010| 1748|        php|\n",
            "|2010|  998|        php|\n",
            "|2010| 2095| javascript|\n",
            "|2010|  447|        sed|\n",
            "|2010| 6558|     python|\n",
            "|2010|  214|       java|\n",
            "|2010|  214|       ruby|\n",
            "|2010|  852|objective-c|\n",
            "|2010|  179| javascript|\n",
            "|2010| 6709|          r|\n",
            "|2010|   78|        php|\n",
            "|2010| 1280| javascript|\n",
            "+----+-----+-----------+\n",
            "only showing top 20 rows\n",
            "\n"
          ]
        }
      ],
      "source": [
        "names = languages.select(\"name\").rdd.map(lambda x: x[0].lower()).collect()\n",
        "\n",
        "parsedPosts_sample = parsedPosts_sample.select(\"year\", \"views\", explode(\"languages\").alias(\"language\"))\n",
        "\n",
        "parsedPosts_sample = parsedPosts_sample.filter(col(\"language\").isin(names))\n",
        "\n",
        "parsedPosts_sample.show()"
      ]
    },
    {
      "cell_type": "code",
      "execution_count": 11,
      "id": "9eec9a66-0a9e-4bf0-b29e-03b508e3a734",
      "metadata": {
        "colab": {
          "base_uri": "https://localhost:8080/"
        },
        "id": "9eec9a66-0a9e-4bf0-b29e-03b508e3a734",
        "outputId": "ab560569-e6a3-4daf-d5ef-90f6d91979af"
      },
      "outputs": [
        {
          "output_type": "stream",
          "name": "stdout",
          "text": [
            "+----+-----------+----------+\n",
            "|year|   language|sum(views)|\n",
            "+----+-----------+----------+\n",
            "|2013|     erlang|      2302|\n",
            "|2017| typescript|     29031|\n",
            "|2017|        sed|        93|\n",
            "|2013| javascript|    609571|\n",
            "|2013|         f#|      4317|\n",
            "|2012| powershell|     17311|\n",
            "|2019|        php|      3753|\n",
            "|2017|    haskell|      4040|\n",
            "|2013| autohotkey|      4421|\n",
            "|2013|applescript|      2059|\n",
            "|2019|      xpath|        27|\n",
            "|2015|     racket|       762|\n",
            "|2017|         go|      1356|\n",
            "|2018|      perl6|       109|\n",
            "|2015|       dart|       402|\n",
            "|2015|       rust|       117|\n",
            "|2012|         f#|      1222|\n",
            "|2018|     python|     99996|\n",
            "|2017|     prolog|        76|\n",
            "|2016|      latex|       461|\n",
            "+----+-----------+----------+\n",
            "only showing top 20 rows\n",
            "\n"
          ]
        }
      ],
      "source": [
        "parsedPosts_sample = parsedPosts_sample.groupBy(\"year\", \"language\").agg({\"views\": \"sum\"})\n",
        "parsedPosts_sample.show()"
      ]
    },
    {
      "cell_type": "code",
      "execution_count": 12,
      "id": "c01b6085-c16c-4c29-953d-72943ce2db51",
      "metadata": {
        "colab": {
          "base_uri": "https://localhost:8080/"
        },
        "id": "c01b6085-c16c-4c29-953d-72943ce2db51",
        "outputId": "fdc90dc5-1605-41a9-e668-47ef0aec701a"
      },
      "outputs": [
        {
          "output_type": "stream",
          "name": "stdout",
          "text": [
            "+----+-----------+-------+----------+\n",
            "|year|   language|  views|row_number|\n",
            "+----+-----------+-------+----------+\n",
            "|2010|        php|1189629|         1|\n",
            "|2010|       java| 563211|         2|\n",
            "|2010| javascript| 316131|         3|\n",
            "|2010|objective-c|  97009|         4|\n",
            "|2010|       ruby|  76215|         5|\n",
            "|2010|          c|  66587|         6|\n",
            "|2010|     python|  60672|         7|\n",
            "|2010|     matlab|  51865|         8|\n",
            "|2010|applescript|  32305|         9|\n",
            "|2010|     delphi|  13065|        10|\n",
            "|2011| javascript| 809078|         1|\n",
            "|2011|       java| 389834|         2|\n",
            "|2011|        php| 246770|         3|\n",
            "|2011|          c| 238277|         4|\n",
            "|2011|objective-c| 218934|         5|\n",
            "|2011|     python| 203180|         6|\n",
            "|2011|       bash|  60805|         7|\n",
            "|2011|       ruby|  39223|         8|\n",
            "|2011|       perl|  28502|         9|\n",
            "|2011|     matlab|  18816|        10|\n",
            "+----+-----------+-------+----------+\n",
            "only showing top 20 rows\n",
            "\n"
          ]
        }
      ],
      "source": [
        "window = Window.partitionBy(parsedPosts_sample['year']).orderBy(parsedPosts_sample['sum(views)'].desc())\n",
        "postsSample_10 = parsedPosts_sample.select('*', row_number().over(window).alias('row_number')).filter(col('row_number') <= 10).withColumnRenamed(\"sum(views)\", \"views\")\n",
        "postsSample_10 = postsSample_10.orderBy(col(\"year\").asc(), col(\"sum(views)\").desc())\n",
        "postsSample_10.show()"
      ]
    },
    {
      "cell_type": "code",
      "execution_count": 13,
      "id": "cd83a150-7c1b-4b82-88ed-f6609f5ae6c0",
      "metadata": {
        "id": "cd83a150-7c1b-4b82-88ed-f6609f5ae6c0"
      },
      "outputs": [],
      "source": [
        "postsSample_10.write.mode('overwrite').parquet(\"top_10_languages_between_2010_and_2020.parquet\")"
      ]
    },
    {
      "cell_type": "code",
      "execution_count": 14,
      "id": "c84f0895-a49f-486b-91b6-1367fbb43e99",
      "metadata": {
        "id": "c84f0895-a49f-486b-91b6-1367fbb43e99"
      },
      "outputs": [],
      "source": [
        "sc.stop()"
      ]
    }
  ],
  "metadata": {
    "kernelspec": {
      "display_name": "Python 3",
      "language": "python",
      "name": "python3"
    },
    "language_info": {
      "codemirror_mode": {
        "name": "ipython",
        "version": 3
      },
      "file_extension": ".py",
      "mimetype": "text/x-python",
      "name": "python",
      "nbconvert_exporter": "python",
      "pygments_lexer": "ipython3",
      "version": "3.9.5"
    },
    "colab": {
      "provenance": []
    }
  },
  "nbformat": 4,
  "nbformat_minor": 5
}