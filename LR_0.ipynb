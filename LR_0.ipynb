{
  "nbformat": 4,
  "nbformat_minor": 0,
  "metadata": {
    "colab": {
      "provenance": []
    },
    "kernelspec": {
      "name": "python3",
      "display_name": "Python 3"
    }
  },
  "cells": [
    {
      "cell_type": "markdown",
      "metadata": {
        "id": "82OvPKEiEqjc"
      },
      "source": [
        "# Введение в MapReduce модель на Python\n"
      ]
    },
    {
      "cell_type": "code",
      "metadata": {
        "id": "JQ2cvXLjICmI"
      },
      "source": [
        "from typing import NamedTuple # requires python 3.6+\n",
        "from typing import Tuple\n",
        "from typing import Iterator"
      ],
      "execution_count": 32,
      "outputs": []
    },
    {
      "cell_type": "code",
      "metadata": {
        "id": "yjPHumVwEyEg"
      },
      "source": [
        "def MAP(_, row: NamedTuple):\n",
        "  if (row.gender == 'female'):\n",
        "    yield (row.age, row)\n",
        "\n",
        "def REDUCE(age:str, rows: Iterator[NamedTuple]):\n",
        "  sum = 0\n",
        "  count = 0\n",
        "  for row in rows:\n",
        "    sum += row.social_contacts\n",
        "    count += 1\n",
        "  if (count > 0):\n",
        "    yield (age, sum / count)\n",
        "  else:\n",
        "    yield (age, 0)"
      ],
      "execution_count": 33,
      "outputs": []
    },
    {
      "cell_type": "markdown",
      "metadata": {
        "id": "vBKMgpG_ilaZ"
      },
      "source": [
        "Модель элемента данных"
      ]
    },
    {
      "cell_type": "code",
      "metadata": {
        "id": "Rv-XIjhTJPx3"
      },
      "source": [
        "class User(NamedTuple):\n",
        "  id: int\n",
        "  age: str\n",
        "  social_contacts: int\n",
        "  gender: str"
      ],
      "execution_count": 34,
      "outputs": []
    },
    {
      "cell_type": "code",
      "metadata": {
        "id": "5KV0Ze2vQgu5"
      },
      "source": [
        "input_collection = [\n",
        "    User(id=0, age=55, gender='male', social_contacts=20),\n",
        "    User(id=1, age=25, gender='female', social_contacts=240),\n",
        "    User(id=2, age=25, gender='female', social_contacts=500),\n",
        "    User(id=3, age=33, gender='female', social_contacts=800)\n",
        "]"
      ],
      "execution_count": 35,
      "outputs": []
    },
    {
      "cell_type": "markdown",
      "metadata": {
        "id": "YFeqzyZxZIFZ"
      },
      "source": [
        "Функция RECORDREADER моделирует чтение элементов с диска или по сети."
      ]
    },
    {
      "cell_type": "code",
      "metadata": {
        "id": "S5HR4E_GQoMJ"
      },
      "source": [
        "def RECORDREADER():\n",
        "  return [(u.id, u) for u in input_collection]"
      ],
      "execution_count": 36,
      "outputs": []
    },
    {
      "cell_type": "code",
      "metadata": {
        "id": "NeEoWla-ROUy",
        "colab": {
          "base_uri": "https://localhost:8080/"
        },
        "outputId": "5e3738b1-7ba3-471e-83f1-beff4e735927"
      },
      "source": [
        "list(RECORDREADER())"
      ],
      "execution_count": 37,
      "outputs": [
        {
          "output_type": "execute_result",
          "data": {
            "text/plain": [
              "[(0, User(id=0, age=55, social_contacts=20, gender='male')),\n",
              " (1, User(id=1, age=25, social_contacts=240, gender='female')),\n",
              " (2, User(id=2, age=25, social_contacts=500, gender='female')),\n",
              " (3, User(id=3, age=33, social_contacts=800, gender='female'))]"
            ]
          },
          "metadata": {},
          "execution_count": 37
        }
      ]
    },
    {
      "cell_type": "code",
      "metadata": {
        "id": "YB8orgPSZs8M"
      },
      "source": [
        "def flatten(nested_iterable):\n",
        "  for iterable in nested_iterable:\n",
        "    for element in iterable:\n",
        "      yield element"
      ],
      "execution_count": 38,
      "outputs": []
    },
    {
      "cell_type": "code",
      "metadata": {
        "id": "74oyvDLaRmd5",
        "colab": {
          "base_uri": "https://localhost:8080/"
        },
        "outputId": "d146d9a9-5c3b-4cc5-c77c-9d91cbc5e40e"
      },
      "source": [
        "map_output = flatten(map(lambda x: MAP(*x), RECORDREADER()))\n",
        "map_output = list(map_output) # materialize\n",
        "map_output"
      ],
      "execution_count": 39,
      "outputs": [
        {
          "output_type": "execute_result",
          "data": {
            "text/plain": [
              "[(25, User(id=1, age=25, social_contacts=240, gender='female')),\n",
              " (25, User(id=2, age=25, social_contacts=500, gender='female')),\n",
              " (33, User(id=3, age=33, social_contacts=800, gender='female'))]"
            ]
          },
          "metadata": {},
          "execution_count": 39
        }
      ]
    },
    {
      "cell_type": "code",
      "metadata": {
        "id": "8ncYDJ3-VzDn"
      },
      "source": [
        "def groupbykey(iterable):\n",
        "  t = {}\n",
        "  for (k2, v2) in iterable:\n",
        "    t[k2] = t.get(k2, []) + [v2]\n",
        "  return t.items()"
      ],
      "execution_count": 40,
      "outputs": []
    },
    {
      "cell_type": "code",
      "metadata": {
        "id": "cKzY_6COWOA2",
        "colab": {
          "base_uri": "https://localhost:8080/"
        },
        "outputId": "9ef1232c-923c-4628-e748-31c29c8a2e4f"
      },
      "source": [
        "shuffle_output = groupbykey(map_output)\n",
        "shuffle_output = list(shuffle_output)\n",
        "shuffle_output"
      ],
      "execution_count": 41,
      "outputs": [
        {
          "output_type": "execute_result",
          "data": {
            "text/plain": [
              "[(25,\n",
              "  [User(id=1, age=25, social_contacts=240, gender='female'),\n",
              "   User(id=2, age=25, social_contacts=500, gender='female')]),\n",
              " (33, [User(id=3, age=33, social_contacts=800, gender='female')])]"
            ]
          },
          "metadata": {},
          "execution_count": 41
        }
      ]
    },
    {
      "cell_type": "code",
      "metadata": {
        "id": "NlA7lkDDYL0t",
        "colab": {
          "base_uri": "https://localhost:8080/"
        },
        "outputId": "4e12be22-e103-4827-b319-2c4ec4dd3a83"
      },
      "source": [
        "reduce_output = flatten(map(lambda x: REDUCE(*x), shuffle_output))\n",
        "reduce_output = list(reduce_output)\n",
        "reduce_output"
      ],
      "execution_count": 42,
      "outputs": [
        {
          "output_type": "execute_result",
          "data": {
            "text/plain": [
              "[(25, 370.0), (33, 800.0)]"
            ]
          },
          "metadata": {},
          "execution_count": 42
        }
      ]
    },
    {
      "cell_type": "markdown",
      "metadata": {
        "id": "xf6qhHEtd6bI"
      },
      "source": [
        "Все действия одним конвейером!"
      ]
    },
    {
      "cell_type": "code",
      "metadata": {
        "id": "dZaQGYxCdpw5",
        "colab": {
          "base_uri": "https://localhost:8080/"
        },
        "outputId": "83f08ac7-112f-43ba-99ee-96beae18676f"
      },
      "source": [
        "list(flatten(map(lambda x: REDUCE(*x), groupbykey(flatten(map(lambda x: MAP(*x), RECORDREADER()))))))"
      ],
      "execution_count": 43,
      "outputs": [
        {
          "output_type": "execute_result",
          "data": {
            "text/plain": [
              "[(25, 370.0), (33, 800.0)]"
            ]
          },
          "metadata": {},
          "execution_count": 43
        }
      ]
    },
    {
      "cell_type": "markdown",
      "metadata": {
        "id": "Vq3EWRIpwSiJ"
      },
      "source": [
        "# **MapReduce**\n",
        "Выделим общую для всех пользователей часть системы в отдельную функцию высшего порядка. Это наиболее простая модель MapReduce, без учёта распределённого хранения данных.\n",
        "\n",
        "Пользователь для решения своей задачи реализует RECORDREADER, MAP, REDUCE."
      ]
    },
    {
      "cell_type": "code",
      "metadata": {
        "id": "V1PZeQMwwVjc"
      },
      "source": [
        "def flatten(nested_iterable):\n",
        "  for iterable in nested_iterable:\n",
        "    for element in iterable:\n",
        "      yield element\n",
        "\n",
        "def groupbykey(iterable):\n",
        "  t = {}\n",
        "  for (k2, v2) in iterable:\n",
        "    t[k2] = t.get(k2, []) + [v2]\n",
        "  return t.items()\n",
        "\n",
        "def MapReduce(RECORDREADER, MAP, REDUCE):\n",
        "  return flatten(map(lambda x: REDUCE(*x), groupbykey(flatten(map(lambda x: MAP(*x), RECORDREADER())))))"
      ],
      "execution_count": 44,
      "outputs": []
    },
    {
      "cell_type": "markdown",
      "metadata": {
        "id": "iFIVrimep678"
      },
      "source": [
        "## Спецификация MapReduce\n",
        "\n",
        "\n",
        "\n",
        "```\n",
        "f (k1, v1) -> (k2,v2)*\n",
        "g (k2, v2*) -> (k3,v3)*\n",
        "\n",
        "mapreduce ((k1,v1)*) -> (k3,v3)*\n",
        "groupby ((k2,v2)*) -> (k2,v2*)*\n",
        "flatten (e2**) -> e2*\n",
        "\n",
        "mapreduce .map(f).flatten.groupby(k2).map(g).flatten\n",
        "```\n",
        "\n",
        "\n"
      ]
    },
    {
      "cell_type": "markdown",
      "metadata": {
        "id": "QtTFyqke3KGe"
      },
      "source": [
        "# Примеры"
      ]
    },
    {
      "cell_type": "markdown",
      "metadata": {
        "id": "BNhh5763w5Vn"
      },
      "source": [
        "## SQL"
      ]
    },
    {
      "cell_type": "code",
      "metadata": {
        "id": "QkyurnvGxBGk",
        "colab": {
          "base_uri": "https://localhost:8080/"
        },
        "outputId": "33608439-5ada-442c-a498-a24a83eb8de1"
      },
      "source": [
        "from typing import NamedTuple # requires python 3.6+\n",
        "from typing import Iterator\n",
        "\n",
        "class User(NamedTuple):\n",
        "  id: int\n",
        "  age: str\n",
        "  social_contacts: int\n",
        "  gender: str\n",
        "\n",
        "input_collection = [\n",
        "    User(id=0, age=55, gender='male', social_contacts=20),\n",
        "    User(id=1, age=25, gender='female', social_contacts=240),\n",
        "    User(id=2, age=25, gender='female', social_contacts=500),\n",
        "    User(id=3, age=33, gender='female', social_contacts=800)\n",
        "]\n",
        "\n",
        "def MAP(_, row: NamedTuple):\n",
        "  if (row.gender == 'female'):\n",
        "    yield (row.age, row)\n",
        "\n",
        "def REDUCE(age: str, rows: Iterator[NamedTuple]):\n",
        "  sum = 0\n",
        "  count = 0\n",
        "  for row in rows:\n",
        "    sum += row.social_contacts\n",
        "    count += 1\n",
        "  if (count > 0):\n",
        "    yield (age, sum/count)\n",
        "  else:\n",
        "    yield (age, 0)\n",
        "\n",
        "def RECORDREADER():\n",
        "  return [(u.id, u) for u in input_collection]\n",
        "\n",
        "output = MapReduce(RECORDREADER, MAP, REDUCE)\n",
        "output = list(output)\n",
        "output"
      ],
      "execution_count": 45,
      "outputs": [
        {
          "output_type": "execute_result",
          "data": {
            "text/plain": [
              "[(25, 370.0), (33, 800.0)]"
            ]
          },
          "metadata": {},
          "execution_count": 45
        }
      ]
    },
    {
      "cell_type": "markdown",
      "metadata": {
        "id": "kNKYIeerx0nY"
      },
      "source": [
        "## Matrix-Vector multiplication"
      ]
    },
    {
      "cell_type": "code",
      "metadata": {
        "id": "rwcntRcCyi1V",
        "colab": {
          "base_uri": "https://localhost:8080/"
        },
        "outputId": "a239411d-9399-4a5a-ab2d-cc4200a5cb2d"
      },
      "source": [
        "from typing import Iterator\n",
        "import numpy as np\n",
        "\n",
        "mat = np.ones((5, 4))\n",
        "vec = np.random.rand(4) # in-memory vector in all map tasks\n",
        "\n",
        "def MAP(coordinates: Tuple[int, int], value: int):\n",
        "  i, j = coordinates\n",
        "  yield (i, value * vec[j])\n",
        "\n",
        "def REDUCE(i: int, products: Iterator[NamedTuple]):\n",
        "  sum = 0\n",
        "  for p in products:\n",
        "    sum += p\n",
        "  yield (i, sum)\n",
        "\n",
        "def RECORDREADER():\n",
        "  for i in range(mat.shape[0]):\n",
        "    for j in range(mat.shape[1]):\n",
        "      yield ((i, j), mat[i, j])\n",
        "\n",
        "print(mat)\n",
        "print(vec)\n",
        "output = MapReduce(RECORDREADER, MAP, REDUCE)\n",
        "output = list(output)\n",
        "output"
      ],
      "execution_count": 46,
      "outputs": [
        {
          "output_type": "stream",
          "name": "stdout",
          "text": [
            "[[1. 1. 1. 1.]\n",
            " [1. 1. 1. 1.]\n",
            " [1. 1. 1. 1.]\n",
            " [1. 1. 1. 1.]\n",
            " [1. 1. 1. 1.]]\n",
            "[0.71706127 0.3712892  0.59395051 0.42852747]\n"
          ]
        },
        {
          "output_type": "execute_result",
          "data": {
            "text/plain": [
              "[(0, 2.1108284504106596),\n",
              " (1, 2.1108284504106596),\n",
              " (2, 2.1108284504106596),\n",
              " (3, 2.1108284504106596),\n",
              " (4, 2.1108284504106596)]"
            ]
          },
          "metadata": {},
          "execution_count": 46
        }
      ]
    },
    {
      "cell_type": "markdown",
      "metadata": {
        "id": "ruZREYdi2o4O"
      },
      "source": [
        "## Inverted index"
      ]
    },
    {
      "cell_type": "code",
      "metadata": {
        "id": "vt9H9Alf3TYv",
        "colab": {
          "base_uri": "https://localhost:8080/"
        },
        "outputId": "e9e162c1-a69e-488c-bd96-fdd0fd2bc4ef"
      },
      "source": [
        "from typing import Iterator\n",
        "\n",
        "d1 = \"it is what it is\"\n",
        "d2 = \"what is it\"\n",
        "d3 = \"it is a banana\"\n",
        "documents = [d1, d2, d3]\n",
        "\n",
        "def RECORDREADER():\n",
        "  for (docid, document) in enumerate(documents):\n",
        "    yield (\"{}\".format(docid), document)\n",
        "\n",
        "def MAP(docId: str, body: str):\n",
        "  for word in set(body.split(' ')):\n",
        "    yield (word, docId)\n",
        "\n",
        "def REDUCE(word: str, docIds: Iterator[str]):\n",
        "  yield (word, sorted(docIds))\n",
        "\n",
        "output = MapReduce(RECORDREADER, MAP, REDUCE)\n",
        "output = list(output)\n",
        "output"
      ],
      "execution_count": 47,
      "outputs": [
        {
          "output_type": "execute_result",
          "data": {
            "text/plain": [
              "[('what', ['0', '1']),\n",
              " ('it', ['0', '1', '2']),\n",
              " ('is', ['0', '1', '2']),\n",
              " ('a', ['2']),\n",
              " ('banana', ['2'])]"
            ]
          },
          "metadata": {},
          "execution_count": 47
        }
      ]
    },
    {
      "cell_type": "markdown",
      "metadata": {
        "id": "R7az-6DA6qr2"
      },
      "source": [
        "## WordCount"
      ]
    },
    {
      "cell_type": "code",
      "metadata": {
        "id": "dN-nbtgG6uYG",
        "colab": {
          "base_uri": "https://localhost:8080/"
        },
        "outputId": "8c4e7f82-d4ac-4378-f634-43595d25789b"
      },
      "source": [
        "from typing import Iterator\n",
        "\n",
        "d1 = \"\"\"\n",
        "it is what it is\n",
        "it is what it is\n",
        "it is what it is\"\"\"\n",
        "d2 = \"\"\"\n",
        "what is it\n",
        "what is it\"\"\"\n",
        "d3 = \"\"\"\n",
        "it is a banana\"\"\"\n",
        "documents = [d1, d2, d3]\n",
        "\n",
        "def RECORDREADER():\n",
        "  for (docid, document) in enumerate(documents):\n",
        "    for (lineid, line) in enumerate(document.split('\\n')):\n",
        "      yield (\"{}:{}\".format(docid, lineid), line)\n",
        "\n",
        "def MAP(docId: str, line: str):\n",
        "  for word in line.split(\" \"):\n",
        "    yield (word, 1)\n",
        "\n",
        "def REDUCE(word: str, counts: Iterator[int]):\n",
        "  sum = 0\n",
        "  for c in counts:\n",
        "    sum += c\n",
        "  yield (word, sum)\n",
        "\n",
        "output = MapReduce(RECORDREADER, MAP, REDUCE)\n",
        "output = list(output)\n",
        "output"
      ],
      "execution_count": 48,
      "outputs": [
        {
          "output_type": "execute_result",
          "data": {
            "text/plain": [
              "[('', 3), ('it', 9), ('is', 9), ('what', 5), ('a', 1), ('banana', 1)]"
            ]
          },
          "metadata": {},
          "execution_count": 48
        }
      ]
    },
    {
      "cell_type": "markdown",
      "metadata": {
        "id": "h-jRAcYCAkkk"
      },
      "source": [
        "# MapReduce Distributed\n",
        "\n",
        "Добавляется в модель фабрика RECORDREARER-ов --- INPUTFORMAT, функция распределения промежуточных результатов по партициям PARTITIONER, и функция COMBINER для частичной аггрегации промежуточных результатов до распределения по новым партициям."
      ]
    },
    {
      "cell_type": "code",
      "metadata": {
        "id": "nw-b-xJsApgW"
      },
      "source": [
        "def flatten(nested_iterable):\n",
        "  for iterable in nested_iterable:\n",
        "    for element in iterable:\n",
        "      yield element\n",
        "\n",
        "def groupbykey(iterable):\n",
        "  t = {}\n",
        "  for (k2, v2) in iterable:\n",
        "    t[k2] = t.get(k2, []) + [v2]\n",
        "  return t.items()\n",
        "\n",
        "def groupbykey_distributed(map_partitions, PARTITIONER):\n",
        "  global reducers\n",
        "  partitions = [dict() for _ in range(reducers)]\n",
        "  for map_partition in map_partitions:\n",
        "    for (k2, v2) in map_partition:\n",
        "      p = partitions[PARTITIONER(k2)]\n",
        "      p[k2] = p.get(k2, []) + [v2]\n",
        "  return [(partition_id, sorted(partition.items(), key=lambda x: x[0])) for (partition_id, partition) in enumerate(partitions)]\n",
        "\n",
        "def PARTITIONER(obj):\n",
        "  global reducers\n",
        "  return hash(obj) % reducers\n",
        "\n",
        "def MapReduceDistributed(INPUTFORMAT, MAP, REDUCE, PARTITIONER=PARTITIONER, COMBINER=None):\n",
        "  map_partitions = map(lambda record_reader: flatten(map(lambda k1v1: MAP(*k1v1), record_reader)), INPUTFORMAT())\n",
        "  if COMBINER != None:\n",
        "    map_partitions = map(lambda map_partition: flatten(map(lambda k2v2: COMBINER(*k2v2), groupbykey(map_partition))), map_partitions)\n",
        "  reduce_partitions = groupbykey_distributed(map_partitions, PARTITIONER) # shuffle\n",
        "  reduce_outputs = map(lambda reduce_partition: (reduce_partition[0], flatten(map(lambda reduce_input_group: REDUCE(*reduce_input_group), reduce_partition[1]))), reduce_partitions)\n",
        "\n",
        "  print(\"{} key-value pairs were sent over a network.\".format(sum([len(vs) for (k,vs) in flatten([partition for (partition_id, partition) in reduce_partitions])])))\n",
        "  return reduce_outputs"
      ],
      "execution_count": 49,
      "outputs": []
    },
    {
      "cell_type": "markdown",
      "metadata": {
        "id": "kxirlf3XqZxY"
      },
      "source": [
        "## Спецификация MapReduce Distributed\n",
        "\n",
        "\n",
        "```\n",
        "f (k1, v1) -> (k2,v2)*\n",
        "g (k2, v2*) -> (k3,v3)*\n",
        "\n",
        "e1 (k1, v1)\n",
        "e2 (k2, v2)\n",
        "partition1 (k2, v2)*\n",
        "partition2 (k2, v2*)*\n",
        "\n",
        "flatmap (e1->e2*, e1*) -> partition1*\n",
        "groupby (partition1*) -> partition2*\n",
        "\n",
        "mapreduce ((k1,v1)*) -> (k3,v3)*\n",
        "mapreduce .flatmap(f).groupby(k2).flatmap(g)\n",
        "```\n",
        "\n"
      ]
    },
    {
      "cell_type": "markdown",
      "metadata": {
        "id": "CWYw_CpbbY3C"
      },
      "source": [
        "## WordCount"
      ]
    },
    {
      "cell_type": "code",
      "metadata": {
        "id": "uR_zfGFkMZlp",
        "colab": {
          "base_uri": "https://localhost:8080/"
        },
        "outputId": "719bc718-7c1e-4597-b017-3a0ece6a20be"
      },
      "source": [
        "from typing import Iterator\n",
        "import numpy as np\n",
        "\n",
        "d1 = \"\"\"\n",
        "it is what it is\n",
        "it is what it is\n",
        "it is what it is\"\"\"\n",
        "d2 = \"\"\"\n",
        "what is it\n",
        "what is it\"\"\"\n",
        "d3 = \"\"\"\n",
        "it is a banana\"\"\"\n",
        "documents = [d1, d2, d3, d1, d2, d3]\n",
        "\n",
        "maps = 3\n",
        "reducers = 2\n",
        "\n",
        "def INPUTFORMAT():\n",
        "  global maps\n",
        "\n",
        "  def RECORDREADER(split):\n",
        "    for (docid, document) in enumerate(split):\n",
        "      for (lineid, line) in enumerate(document.split('\\n')):\n",
        "        yield (\"{}:{}\".format(docid, lineid), line)\n",
        "\n",
        "  split_size = int(np.ceil(len(documents) / maps))\n",
        "\n",
        "  for i in range(0, len(documents), split_size):\n",
        "    yield RECORDREADER(documents[i:i + split_size])\n",
        "\n",
        "def MAP(docId: str, line: str):\n",
        "  for word in line.split(\" \"):\n",
        "    yield (word, 1)\n",
        "\n",
        "def REDUCE(word: str, counts: Iterator[int]):\n",
        "  sum = 0\n",
        "  for c in counts:\n",
        "    sum += c\n",
        "  yield (word, sum)\n",
        "\n",
        "# try to set COMBINER=REDUCER and look at the number of values sent over the network\n",
        "partitioned_output = MapReduceDistributed(INPUTFORMAT, MAP, REDUCE, COMBINER=None)\n",
        "partitioned_output = [(partition_id, list(partition)) for (partition_id, partition) in partitioned_output]\n",
        "partitioned_output"
      ],
      "execution_count": 50,
      "outputs": [
        {
          "output_type": "stream",
          "name": "stdout",
          "text": [
            "56 key-value pairs were sent over a network.\n"
          ]
        },
        {
          "output_type": "execute_result",
          "data": {
            "text/plain": [
              "[(0, [('', 6), ('a', 2), ('banana', 2), ('is', 18), ('what', 10)]),\n",
              " (1, [('it', 18)])]"
            ]
          },
          "metadata": {},
          "execution_count": 50
        }
      ]
    },
    {
      "cell_type": "markdown",
      "metadata": {
        "id": "gCJGx8IQ87xS"
      },
      "source": [
        "## TeraSort"
      ]
    },
    {
      "cell_type": "code",
      "metadata": {
        "id": "P2v8v1v_8_YR",
        "colab": {
          "base_uri": "https://localhost:8080/"
        },
        "outputId": "6d3cf374-396f-4028-efb2-c20002290c91"
      },
      "source": [
        "import numpy as np\n",
        "\n",
        "input_values = np.random.rand(30)\n",
        "maps = 3\n",
        "reducers = 2\n",
        "min_value = 0.0\n",
        "max_value = 1.0\n",
        "\n",
        "def INPUTFORMAT():\n",
        "  global maps\n",
        "\n",
        "  def RECORDREADER(split):\n",
        "    for value in split:\n",
        "        yield (value, None)\n",
        "\n",
        "  split_size =  int(np.ceil(len(input_values) / maps))\n",
        "  for i in range(0, len(input_values), split_size):\n",
        "    yield RECORDREADER(input_values[i:i+split_size])\n",
        "\n",
        "def MAP(value:int, _):\n",
        "  yield (value, None)\n",
        "\n",
        "def PARTITIONER(key):\n",
        "  global reducers\n",
        "  global max_value\n",
        "  global min_value\n",
        "  bucket_size = (max_value-min_value)/reducers\n",
        "  bucket_id = 0\n",
        "  while((key>(bucket_id+1)*bucket_size) and ((bucket_id+1)*bucket_size<max_value)):\n",
        "    bucket_id += 1\n",
        "  return bucket_id\n",
        "\n",
        "def REDUCE(value:int, _):\n",
        "  yield (None,value)\n",
        "\n",
        "partitioned_output = MapReduceDistributed(INPUTFORMAT, MAP, REDUCE, COMBINER=None, PARTITIONER=PARTITIONER)\n",
        "partitioned_output = [(partition_id, list(partition)) for (partition_id, partition) in partitioned_output]\n",
        "partitioned_output"
      ],
      "execution_count": 51,
      "outputs": [
        {
          "output_type": "stream",
          "name": "stdout",
          "text": [
            "30 key-value pairs were sent over a network.\n"
          ]
        },
        {
          "output_type": "execute_result",
          "data": {
            "text/plain": [
              "[(0,\n",
              "  [(None, 0.0011496019078764963),\n",
              "   (None, 0.031218084388362155),\n",
              "   (None, 0.050836165304943726),\n",
              "   (None, 0.053620807159475814),\n",
              "   (None, 0.06349275231993101),\n",
              "   (None, 0.08867807211384926),\n",
              "   (None, 0.11327564529212619),\n",
              "   (None, 0.14917190758185284),\n",
              "   (None, 0.18730430572942547),\n",
              "   (None, 0.24549201366170648),\n",
              "   (None, 0.28623373220722836),\n",
              "   (None, 0.30329854557412994),\n",
              "   (None, 0.3056506200933863),\n",
              "   (None, 0.3162210044906526),\n",
              "   (None, 0.3229974990395904),\n",
              "   (None, 0.32998113137048524),\n",
              "   (None, 0.33473049232728147),\n",
              "   (None, 0.3364638960853792),\n",
              "   (None, 0.3606674575089239),\n",
              "   (None, 0.48951082517414124)]),\n",
              " (1,\n",
              "  [(None, 0.5001093590246479),\n",
              "   (None, 0.515635536894885),\n",
              "   (None, 0.533740156646782),\n",
              "   (None, 0.5444526246120444),\n",
              "   (None, 0.610340468320169),\n",
              "   (None, 0.7408524539841618),\n",
              "   (None, 0.8937291789258196),\n",
              "   (None, 0.9496949896775627),\n",
              "   (None, 0.976627132858243),\n",
              "   (None, 0.9880467054202186)])]"
            ]
          },
          "metadata": {},
          "execution_count": 51
        }
      ]
    },
    {
      "cell_type": "markdown",
      "metadata": {
        "id": "Iy65YJTH99iT"
      },
      "source": [
        "# Упражнения\n",
        "Упражнения взяты из Rajaraman A., Ullman J. D. Mining of massive datasets. – Cambridge University Press, 2011.\n",
        "\n",
        "\n",
        "Для выполнения заданий переопределите функции RECORDREADER, MAP, REDUCE. Для модели распределённой системы может потребоваться переопределение функций PARTITION и COMBINER."
      ]
    },
    {
      "cell_type": "markdown",
      "metadata": {
        "id": "cfvAeZm3S8S8"
      },
      "source": [
        "### Максимальное значение ряда\n",
        "\n",
        "Разработайте MapReduce алгоритм, который находит максимальное число входного списка чисел."
      ]
    },
    {
      "cell_type": "code",
      "metadata": {
        "id": "3GRA1JR-Tkbg",
        "colab": {
          "base_uri": "https://localhost:8080/"
        },
        "outputId": "a5c5d68c-7303-446c-e95a-3221a8bfc9be"
      },
      "source": [
        "from typing import Iterator\n",
        "from typing import List\n",
        "import numpy as np\n",
        "\n",
        "\n",
        "def MAP(key: int, value: int):\n",
        "    yield (1, value)\n",
        "\n",
        "def REDUCE(key: int, row: List[int]):\n",
        "    yield max(row)\n",
        "\n",
        "def RECORDREADER():\n",
        "    random_numbers = np.random.randint(10, size=100)\n",
        "    indexed_numbers = [(index, num) for index, num in enumerate(random_numbers)]\n",
        "    return indexed_numbers\n",
        "\n",
        "output = MapReduce(RECORDREADER, MAP, REDUCE)\n",
        "output = list(output)\n",
        "output"
      ],
      "execution_count": 52,
      "outputs": [
        {
          "output_type": "execute_result",
          "data": {
            "text/plain": [
              "[9]"
            ]
          },
          "metadata": {},
          "execution_count": 52
        }
      ]
    },
    {
      "cell_type": "markdown",
      "metadata": {
        "id": "k86bXnqZTk-U"
      },
      "source": [
        "### Арифметическое среднее\n",
        "\n",
        "Разработайте MapReduce алгоритм, который находит арифметическое среднее.\n",
        "\n",
        "$$\\overline{X} = \\frac{1}{n}\\sum_{i=0}^{n} x_i$$\n"
      ]
    },
    {
      "cell_type": "code",
      "source": [
        "import numpy as np\n",
        "n = 10000\n",
        "\n",
        "def MAP(key: int, value: int):\n",
        "    yield (1, value)\n",
        "\n",
        "def REDUCE(key: int, row: List[int]):\n",
        "    yield np.mean(row)\n",
        "\n",
        "def RECORDREADER():\n",
        "    random_numbers = np.random.randint(10, size=100)\n",
        "    indexed_numbers = [(index, num) for index, num in enumerate(random_numbers)]\n",
        "    return indexed_numbers\n",
        "\n",
        "output = MapReduce(RECORDREADER, MAP, REDUCE)\n",
        "output = list(output)\n",
        "output"
      ],
      "metadata": {
        "colab": {
          "base_uri": "https://localhost:8080/"
        },
        "id": "yOnfFzY11FQn",
        "outputId": "a8f9a67c-1974-4744-cbdd-75121c5b1404"
      },
      "execution_count": 53,
      "outputs": [
        {
          "output_type": "execute_result",
          "data": {
            "text/plain": [
              "[4.38]"
            ]
          },
          "metadata": {},
          "execution_count": 53
        }
      ]
    },
    {
      "cell_type": "markdown",
      "metadata": {
        "id": "xanzszhsIlLe"
      },
      "source": [
        "### GroupByKey на основе сортировки\n",
        "\n",
        "Реализуйте groupByKey на основе сортировки, проверьте его работу на примерах"
      ]
    },
    {
      "cell_type": "code",
      "metadata": {
        "id": "hQPn3USsIkEC",
        "colab": {
          "base_uri": "https://localhost:8080/"
        },
        "outputId": "e8cf99b5-317f-4251-f2f1-b08d9de2c7ce"
      },
      "source": [
        "import numpy as np\n",
        "\n",
        "n = 10\n",
        "\n",
        "def MAP(key: int, value: int):\n",
        "    yield (1, value)\n",
        "\n",
        "def RECORDREADER():\n",
        "    random_numbers = np.random.randint(10, size=100)\n",
        "    indexed_numbers = [(index, num) for index, num in enumerate(random_numbers)]\n",
        "    return indexed_numbers\n",
        "\n",
        "def flatten(iterable):\n",
        "    return [item for sublist in iterable for item in sublist]\n",
        "\n",
        "def groupbykey(iterable):\n",
        "    t = {}\n",
        "\n",
        "    for (k, v) in iterable:\n",
        "        t[k] = t.get(k, []) + [v]\n",
        "\n",
        "    return t.items()\n",
        "\n",
        "def groupbykey_sorted(iterable):\n",
        "    t = {}\n",
        "\n",
        "    for (k2, v2) in iterable:\n",
        "        t[k2] = sorted(t.get(k2, []) + [v2])\n",
        "\n",
        "    return t.items()\n",
        "\n",
        "mapped_data = flatten(map(lambda x: MAP(*x), RECORDREADER()))\n",
        "\n",
        "print(groupbykey(mapped_data))\n",
        "print(groupbykey_sorted(mapped_data))"
      ],
      "execution_count": 54,
      "outputs": [
        {
          "output_type": "stream",
          "name": "stdout",
          "text": [
            "dict_items([(1, [7, 4, 2, 7, 0, 5, 6, 0, 6, 3, 9, 6, 3, 4, 8, 7, 5, 8, 4, 5, 6, 0, 5, 4, 3, 4, 9, 4, 8, 8, 4, 7, 8, 0, 8, 3, 8, 3, 6, 2, 0, 7, 3, 8, 3, 3, 9, 1, 3, 5, 4, 5, 0, 5, 9, 3, 2, 8, 6, 7, 6, 8, 9, 9, 1, 8, 2, 3, 6, 2, 1, 6, 5, 0, 7, 3, 4, 0, 0, 1, 4, 7, 4, 7, 4, 6, 0, 7, 2, 0, 1, 1, 5, 7, 8, 3, 6, 9, 4, 8])])\n",
            "dict_items([(1, [0, 0, 0, 0, 0, 0, 0, 0, 0, 0, 0, 1, 1, 1, 1, 1, 1, 2, 2, 2, 2, 2, 2, 3, 3, 3, 3, 3, 3, 3, 3, 3, 3, 3, 3, 3, 4, 4, 4, 4, 4, 4, 4, 4, 4, 4, 4, 4, 4, 5, 5, 5, 5, 5, 5, 5, 5, 5, 6, 6, 6, 6, 6, 6, 6, 6, 6, 6, 6, 7, 7, 7, 7, 7, 7, 7, 7, 7, 7, 7, 8, 8, 8, 8, 8, 8, 8, 8, 8, 8, 8, 8, 8, 9, 9, 9, 9, 9, 9, 9])])\n"
          ]
        }
      ]
    },
    {
      "cell_type": "markdown",
      "metadata": {
        "id": "5SgEjCZyGnu6"
      },
      "source": [
        "### Drop duplicates (set construction, unique elements, distinct)\n",
        "\n",
        "Реализуйте распределённую операцию исключения дубликатов"
      ]
    },
    {
      "cell_type": "code",
      "metadata": {
        "id": "okjbyApjGhMt",
        "colab": {
          "base_uri": "https://localhost:8080/"
        },
        "outputId": "db7528c9-8f24-4abc-9e88-a18a1831b3cd"
      },
      "source": [
        "from typing import List\n",
        "\n",
        "class User(NamedTuple):\n",
        "  id: int\n",
        "  age: str\n",
        "  social_contacts: int\n",
        "  gender: str\n",
        "\n",
        "input_collection = [\n",
        "        User(id=0, age=55, gender='male', social_contacts=20),\n",
        "        User(id=1, age=25, gender='female', social_contacts=240),\n",
        "        User(id=2, age=25, gender='female', social_contacts=500),\n",
        "        User(id=3, age=33, gender='female', social_contacts=800),\n",
        "        User(id=0, age=55, gender='male', social_contacts=20),\n",
        "        User(id=1, age=25, gender='female', social_contacts=240),\n",
        "        User(id=2, age=25, gender='female', social_contacts=500),\n",
        "        User(id=3, age=33, gender='female', social_contacts=800)\n",
        "    ]\n",
        "\n",
        "def MAP(key: int, value: User):\n",
        "    yield (value.id, value)\n",
        "\n",
        "def REDUCE(key: int, values: List[User]):\n",
        "    yield values[0]\n",
        "\n",
        "def RECORDREADER():\n",
        "    return [(index, user) for index, user in enumerate(input_collection)]\n",
        "\n",
        "output = MapReduce(RECORDREADER, MAP, REDUCE)\n",
        "\n",
        "for user in output:\n",
        "    print(user)"
      ],
      "execution_count": 55,
      "outputs": [
        {
          "output_type": "stream",
          "name": "stdout",
          "text": [
            "User(id=0, age=55, social_contacts=20, gender='male')\n",
            "User(id=1, age=25, social_contacts=240, gender='female')\n",
            "User(id=2, age=25, social_contacts=500, gender='female')\n",
            "User(id=3, age=33, social_contacts=800, gender='female')\n"
          ]
        }
      ]
    },
    {
      "cell_type": "markdown",
      "metadata": {
        "id": "e7sRGoTXuJze"
      },
      "source": [
        "#Операторы реляционной алгебры\n",
        "### Selection (Выборка)\n",
        "\n",
        "**The Map Function**: Для  каждого кортежа $t \\in R$ вычисляется истинность предиката $C$. В случае истины создаётся пара ключ-значение $(t, t)$. В паре ключ и значение одинаковы, равны $t$.\n",
        "\n",
        "**The Reduce Function:** Роль функции Reduce выполняет функция идентичности, которая возвращает то же значение, что получила на вход.\n",
        "\n"
      ]
    },
    {
      "cell_type": "code",
      "source": [
        "class User(NamedTuple):\n",
        "    id: int\n",
        "    age: str\n",
        "    social_contacts: int\n",
        "    gender: str"
      ],
      "metadata": {
        "id": "rCmjgR_Rwe0U"
      },
      "execution_count": 56,
      "outputs": []
    },
    {
      "cell_type": "code",
      "metadata": {
        "id": "4nKIKe59uIfc",
        "colab": {
          "base_uri": "https://localhost:8080/"
        },
        "outputId": "fc4ec4e9-128d-4f0f-9c88-2228db016372"
      },
      "source": [
        "from typing import List, NamedTuple\n",
        "\n",
        "def condition(user: User) -> bool:\n",
        "    return user.gender == 'male'\n",
        "\n",
        "def MAP(key: int, value: User):\n",
        "    if condition(value):\n",
        "        yield (value, value)\n",
        "\n",
        "def REDUCE(key: int, values: List[User]):\n",
        "    yield values[0]\n",
        "\n",
        "input_collection = [\n",
        "        User(id=0, age=55, gender='male', social_contacts=20),\n",
        "        User(id=1, age=25, gender='female', social_contacts=240),\n",
        "        User(id=2, age=25, gender='female', social_contacts=500),\n",
        "        User(id=3, age=33, gender='female', social_contacts=800),\n",
        "    ]\n",
        "\n",
        "\n",
        "def RECORDREADER():\n",
        "  return [(index, user) for index, user in enumerate(input_collection)]\n",
        "\n",
        "\n",
        "output = MapReduce(RECORDREADER, MAP, REDUCE)\n",
        "\n",
        "for element in output:\n",
        "    print(element)\n"
      ],
      "execution_count": 57,
      "outputs": [
        {
          "output_type": "stream",
          "name": "stdout",
          "text": [
            "User(id=0, age=55, social_contacts=20, gender='male')\n"
          ]
        }
      ]
    },
    {
      "cell_type": "markdown",
      "metadata": {
        "id": "w27Ca-_Ku85V"
      },
      "source": [
        "### Projection (Проекция)\n",
        "\n",
        "Проекция на множество атрибутов $S$.\n",
        "\n",
        "**The Map Function:** Для каждого кортежа $t \\in R$ создайте кортеж $t′$, исключая  из $t$ те значения, атрибуты которых не принадлежат  $S$. Верните пару $(t′, t′)$.\n",
        "\n",
        "**The Reduce Function:** Для каждого ключа $t′$, созданного любой Map задачей, вы получаете одну или несколько пар $(t′, t′)$. Reduce функция преобразует $(t′, [t′, t′, . . . , t′])$ в $(t′, t′)$, так, что для ключа $t′$ возвращается одна пара  $(t′, t′)$."
      ]
    },
    {
      "cell_type": "code",
      "metadata": {
        "id": "BEvuY4GqvhS6",
        "colab": {
          "base_uri": "https://localhost:8080/"
        },
        "outputId": "6ac329e3-c3cb-4bbc-b964-f9825ca14d4a"
      },
      "source": [
        "input_collection = [\n",
        "    User(id=0, age=55, gender='male', social_contacts=20),\n",
        "    User(id=1, age=25, gender='female', social_contacts=240),\n",
        "    User(id=2, age=25, gender='female', social_contacts=500),\n",
        "    User(id=3, age=33, gender='female', social_contacts=800),\n",
        "    User(id=4, age=16, gender='male', social_contacts=420)\n",
        "]\n",
        "\n",
        "def MAP(key, value):\n",
        "  yield (value.gender, value.gender)\n",
        "\n",
        "def REDUCE(key, rows):\n",
        "  yield (key, key)\n",
        "\n",
        "def RECORDREADER():\n",
        "  return [(u.id, u) for u in input_collection]\n",
        "\n",
        "output = MapReduce(RECORDREADER, MAP, REDUCE)\n",
        "\n",
        "for element in output:\n",
        "    print(element)"
      ],
      "execution_count": 58,
      "outputs": [
        {
          "output_type": "stream",
          "name": "stdout",
          "text": [
            "('male', 'male')\n",
            "('female', 'female')\n"
          ]
        }
      ]
    },
    {
      "cell_type": "markdown",
      "metadata": {
        "id": "7gau6lKXvn2R"
      },
      "source": [
        "### Union (Объединение)\n",
        "\n",
        "**The Map Function:** Превратите каждый входной кортеж $t$ в пару ключ-значение $(t, t)$.\n",
        "\n",
        "**The Reduce Function:** С каждым ключом $t$ будет ассоциировано одно или два значений. В обоих случаях создайте $(t, t)$ в качестве выходного значения."
      ]
    },
    {
      "cell_type": "code",
      "metadata": {
        "id": "Sns7a5agv3nw",
        "colab": {
          "base_uri": "https://localhost:8080/"
        },
        "outputId": "1dd29c1b-425a-481a-a52b-e58b6491a905"
      },
      "source": [
        "collection_1 = [\n",
        "    User(id=0, age=55, gender='male', social_contacts=20),\n",
        "    User(id=1, age=25, gender='female', social_contacts=240),\n",
        "    User(id=2, age=25, gender='female', social_contacts=500),\n",
        "    User(id=3, age=33, gender='female', social_contacts=800),\n",
        "    User(id=4, age=16, gender='male', social_contacts=420),\n",
        "]\n",
        "\n",
        "collection_2 = [\n",
        "    User(id=0, age=55, gender='male', social_contacts=20),\n",
        "    User(id=3, age=33, gender='female', social_contacts=800),\n",
        "]\n",
        "\n",
        "def MAP(key, value):\n",
        "  yield (value, value)\n",
        "\n",
        "def REDUCE(key, rows):\n",
        "  yield (key, key)\n",
        "\n",
        "def RECORDREADER():\n",
        "  return [(u.id, u) for u in collection_1 + collection_2]\n",
        "\n",
        "output = MapReduce(RECORDREADER, MAP, REDUCE)\n",
        "\n",
        "for element in output:\n",
        "    print(element)"
      ],
      "execution_count": 59,
      "outputs": [
        {
          "output_type": "stream",
          "name": "stdout",
          "text": [
            "(User(id=0, age=55, social_contacts=20, gender='male'), User(id=0, age=55, social_contacts=20, gender='male'))\n",
            "(User(id=1, age=25, social_contacts=240, gender='female'), User(id=1, age=25, social_contacts=240, gender='female'))\n",
            "(User(id=2, age=25, social_contacts=500, gender='female'), User(id=2, age=25, social_contacts=500, gender='female'))\n",
            "(User(id=3, age=33, social_contacts=800, gender='female'), User(id=3, age=33, social_contacts=800, gender='female'))\n",
            "(User(id=4, age=16, social_contacts=420, gender='male'), User(id=4, age=16, social_contacts=420, gender='male'))\n"
          ]
        }
      ]
    },
    {
      "cell_type": "markdown",
      "metadata": {
        "id": "dQ8TuEbjv4J8"
      },
      "source": [
        "### Intersection (Пересечение)\n",
        "\n",
        "**The Map Function:** Превратите каждый кортеж $t$ в пары ключ-значение $(t, t)$.\n",
        "\n",
        "**The Reduce Function:** Если для ключа $t$ есть список из двух элементов $[t, t]$ $-$ создайте пару $(t, t)$. Иначе, ничего не создавайте."
      ]
    },
    {
      "cell_type": "code",
      "metadata": {
        "id": "XKlBZh4IwERR",
        "colab": {
          "base_uri": "https://localhost:8080/"
        },
        "outputId": "dab55346-01a2-484f-ec4a-22762282f97a"
      },
      "source": [
        "first_collection = [\n",
        "    User(id=0, age=55, gender='male', social_contacts=20),\n",
        "    User(id=1, age=25, gender='female', social_contacts=240),\n",
        "    User(id=2, age=25, gender='female', social_contacts=500),\n",
        "    User(id=3, age=33, gender='female', social_contacts=800),\n",
        "    User(id=4, age=16, gender='male', social_contacts=420),\n",
        "]\n",
        "second_collection = [\n",
        "    User(id=2, age=25, gender='female', social_contacts=500),\n",
        "    User(id=4, age=16, gender='male', social_contacts=420),\n",
        "    User(id=6, age=23, gender='male', social_contacts=228),\n",
        "]\n",
        "\n",
        "def MAP(key, value):\n",
        "  yield (value, value)\n",
        "\n",
        "def REDUCE(key, rows):\n",
        "  if len(rows) > 1:\n",
        "    yield (key, key)\n",
        "\n",
        "def RECORDREADER():\n",
        "  return [(u.id, u) for u in first_collection + second_collection]\n",
        "\n",
        "output = MapReduce(RECORDREADER, MAP, REDUCE)\n",
        "\n",
        "for element in output:\n",
        "    print(element)"
      ],
      "execution_count": 60,
      "outputs": [
        {
          "output_type": "stream",
          "name": "stdout",
          "text": [
            "(User(id=2, age=25, social_contacts=500, gender='female'), User(id=2, age=25, social_contacts=500, gender='female'))\n",
            "(User(id=4, age=16, social_contacts=420, gender='male'), User(id=4, age=16, social_contacts=420, gender='male'))\n"
          ]
        }
      ]
    },
    {
      "cell_type": "markdown",
      "metadata": {
        "id": "AVOpqoY3wE5k"
      },
      "source": [
        "### Difference (Разница)\n",
        "\n",
        "**The Map Function:** Для кортежа $t \\in R$, создайте пару $(t, R)$, и для кортежа $t \\in S$, создайте пару $(t, S)$. Задумка заключается в том, чтобы значение пары было именем отношения $R$ or $S$, которому принадлежит кортеж (а лучше, единичный бит, по которому можно два отношения различить $R$ or $S$), а не весь набор атрибутов отношения.\n",
        "\n",
        "**The Reduce Function:** Для каждого ключа $t$, если соответствующее значение является списком $[R]$, создайте пару $(t, t)$. В иных случаях не предпринимайте действий."
      ]
    },
    {
      "cell_type": "code",
      "source": [
        "def flatten(nested_iterable):\n",
        "  for iterable in nested_iterable:\n",
        "    for element in iterable:\n",
        "      yield element\n",
        "\n",
        "def groupbykey(iterable):\n",
        "  t = {}\n",
        "  for (k2, v2) in iterable:\n",
        "    t[k2] = t.get(k2, []) + [v2]\n",
        "  return t.items()\n",
        "\n",
        "def MapReduce(RECORDREADER, MAP, REDUCE):\n",
        "  return flatten(map(lambda x: REDUCE(*x), groupbykey(flatten(map(lambda x: MAP(*x), RECORDREADER())))))"
      ],
      "metadata": {
        "id": "Zg4AxbB9oH3c"
      },
      "execution_count": 61,
      "outputs": []
    },
    {
      "cell_type": "code",
      "metadata": {
        "id": "QE_AC09lwZIZ",
        "colab": {
          "base_uri": "https://localhost:8080/"
        },
        "outputId": "1b71900f-2074-43ef-c839-10b8abf2b7ce"
      },
      "source": [
        "first_collection = [\n",
        "    User(id=0, age=55, gender='male', social_contacts=20),\n",
        "    User(id=1, age=25, gender='female', social_contacts=240),\n",
        "    User(id=2, age=25, gender='female', social_contacts=500),\n",
        "    User(id=3, age=33, gender='female', social_contacts=800),\n",
        "    User(id=4, age=16, gender='male', social_contacts=420),\n",
        "]\n",
        "\n",
        "second_collection = [\n",
        "    User(id=2, age=25, gender='female', social_contacts=500),\n",
        "    User(id=4, age=16, gender='male', social_contacts=420),\n",
        "    User(id=6, age=23, gender='male', social_contacts=228),\n",
        "]\n",
        "\n",
        "def contains(list, item):\n",
        "    for el in list:\n",
        "      if el is item:\n",
        "        return True\n",
        "    return False\n",
        "\n",
        "def MAP(key, value):\n",
        "  if contains(first_collection, value):\n",
        "    yield (value, 0)\n",
        "  elif contains(second_collection, value):\n",
        "    yield (value, 1)\n",
        "\n",
        "def REDUCE(key, rows):\n",
        "  if (rows == [0]):\n",
        "    yield (key, key)\n",
        "\n",
        "def RECORDREADER():\n",
        "  return [(u.id, u) for u in first_collection + second_collection]\n",
        "\n",
        "output = MapReduce(RECORDREADER, MAP, REDUCE)\n",
        "output = list(sorted(output))\n",
        "output"
      ],
      "execution_count": 62,
      "outputs": [
        {
          "output_type": "execute_result",
          "data": {
            "text/plain": [
              "[(User(id=0, age=55, social_contacts=20, gender='male'),\n",
              "  User(id=0, age=55, social_contacts=20, gender='male')),\n",
              " (User(id=1, age=25, social_contacts=240, gender='female'),\n",
              "  User(id=1, age=25, social_contacts=240, gender='female')),\n",
              " (User(id=3, age=33, social_contacts=800, gender='female'),\n",
              "  User(id=3, age=33, social_contacts=800, gender='female'))]"
            ]
          },
          "metadata": {},
          "execution_count": 62
        }
      ]
    },
    {
      "cell_type": "markdown",
      "metadata": {
        "id": "j8I58V2VwhSm"
      },
      "source": [
        "### Natural Join\n",
        "\n",
        "**The Map Function:** Для каждого кортежа $(a, b)$ отношения $R$, создайте пару $(b,(R, a))$. Для каждого кортежа $(b, c)$ отношения $S$, создайте пару $(b,(S, c))$.\n",
        "\n",
        "**The Reduce Function:** Каждый ключ $b$ будет асоциирован со списком пар, которые принимают форму либо $(R, a)$, либо $(S, c)$. Создайте все пары, одни, состоящие из  первого компонента $R$, а другие, из первого компонента $S$, то есть $(R, a)$ и $(S, c)$. На выходе вы получаете последовательность пар ключ-значение из списков ключей и значений. Ключ не нужен. Каждое значение, это тройка $(a, b, c)$ такая, что $(R, a)$ и $(S, c)$ это принадлежат входному списку значений."
      ]
    },
    {
      "cell_type": "code",
      "metadata": {
        "id": "yHiuuTctw86I",
        "colab": {
          "base_uri": "https://localhost:8080/"
        },
        "outputId": "b142f19f-0aab-4fe2-d14b-566913260a66"
      },
      "source": [
        "class Department(NamedTuple):\n",
        "  department_name: str\n",
        "  manager_name: str\n",
        "\n",
        "class PartialDepartment(NamedTuple):\n",
        "  manager_name: str\n",
        "\n",
        "class Employee(NamedTuple):\n",
        "  id: int\n",
        "  name: str\n",
        "  department_name: str\n",
        "\n",
        "class PartialEmployee(NamedTuple):\n",
        "  id: int\n",
        "  name: str\n",
        "\n",
        "class EmployeeDepartment(NamedTuple):\n",
        "  id: int\n",
        "  name: str\n",
        "  department_name: str\n",
        "  manager_name: str\n",
        "\n",
        "department_collection = [\n",
        "    Department(department_name=\"IT\", manager_name=\"Bob\"),\n",
        "    Department(department_name=\"Sales\", manager_name=\"James\"),\n",
        "    Department(department_name=\"HR\", manager_name=\"Anna\"),\n",
        "    Department(department_name=\"Finance\", manager_name=\"William\"),\n",
        "    Department(department_name=\"Marketing\", manager_name=\"Ysabell\")\n",
        "]\n",
        "\n",
        "employee_collection = [\n",
        "   Employee(id=1, name=\"Thomas\", department_name=\"IT\"),\n",
        "   Employee(id=2, name=\"Adam\", department_name=\"IT\"),\n",
        "   Employee(id=3, name=\"Kevin\", department_name=\"Sales\"),\n",
        "   Employee(id=4, name=\"Brian\", department_name=\"HR\"),\n",
        "   Employee(id=5, name=\"George\", department_name=\"Finance\"),\n",
        "   Employee(id=6, name=\"Scott\", department_name=\"Marketing\"),\n",
        "]\n",
        "\n",
        "def MAP(key, value):\n",
        "  if value in employee_collection:\n",
        "    yield (value.department_name, (0, PartialEmployee(id=value.id, name=value.name)))\n",
        "  elif value in department_collection:\n",
        "    yield (value.department_name, (1, PartialDepartment(manager_name=value.manager_name)))\n",
        "\n",
        "def REDUCE(key, rows):\n",
        "  for i in range(len(rows)):\n",
        "    for j in range(len(rows)):\n",
        "      if (rows[i][0] == 1 and rows[j][0] == 0):\n",
        "        yield (key, EmployeeDepartment(id=rows[j][1].id, name=rows[j][1].name, department_name=key, manager_name=rows[i][1].manager_name))\n",
        "\n",
        "def RECORDREADER():\n",
        "  return [(index, u) for index, u in enumerate(department_collection + employee_collection)]\n",
        "\n",
        "output = MapReduce(RECORDREADER, MAP, REDUCE)\n",
        "output = list(sorted(output))\n",
        "output"
      ],
      "execution_count": 63,
      "outputs": [
        {
          "output_type": "execute_result",
          "data": {
            "text/plain": [
              "[('Finance',\n",
              "  EmployeeDepartment(id=5, name='George', department_name='Finance', manager_name='William')),\n",
              " ('HR',\n",
              "  EmployeeDepartment(id=4, name='Brian', department_name='HR', manager_name='Anna')),\n",
              " ('IT',\n",
              "  EmployeeDepartment(id=1, name='Thomas', department_name='IT', manager_name='Bob')),\n",
              " ('IT',\n",
              "  EmployeeDepartment(id=2, name='Adam', department_name='IT', manager_name='Bob')),\n",
              " ('Marketing',\n",
              "  EmployeeDepartment(id=6, name='Scott', department_name='Marketing', manager_name='Ysabell')),\n",
              " ('Sales',\n",
              "  EmployeeDepartment(id=3, name='Kevin', department_name='Sales', manager_name='James'))]"
            ]
          },
          "metadata": {},
          "execution_count": 63
        }
      ]
    },
    {
      "cell_type": "markdown",
      "metadata": {
        "id": "kYdlr0YUxE27"
      },
      "source": [
        "### Grouping and Aggregation (Группировка и аггрегация)\n",
        "\n",
        "**The Map Function:** Для каждого кортежа $(a, b, c$) создайте пару $(a, b)$.\n",
        "\n",
        "**The Reduce Function:** Ключ представляет ту или иную группу. Примение аггрегирующую операцию $\\theta$ к списку значений $[b1, b2, . . . , bn]$ ассоциированных с ключом $a$. Возвращайте в выходной поток $(a, x)$, где $x$ результат применения  $\\theta$ к списку. Например, если $\\theta$ это $SUM$, тогда $x = b1 + b2 + · · · + bn$, а если $\\theta$ is $MAX$, тогда $x$ это максимальное из значений $b1, b2, . . . , bn$."
      ]
    },
    {
      "cell_type": "code",
      "metadata": {
        "id": "MLPckfEGxico",
        "colab": {
          "base_uri": "https://localhost:8080/"
        },
        "outputId": "eef2022b-71ef-4996-cffe-707b9e3de7a0"
      },
      "source": [
        "class Home(NamedTuple):\n",
        "  id: int\n",
        "  home_type: str\n",
        "  price: int\n",
        "\n",
        "rental_collection = [\n",
        "    Home(id=1, home_type=\"Private room\", price=149),\n",
        "    Home(id=2, home_type=\"Entier home/apt\", price=225),\n",
        "    Home(id=3, home_type=\"Private room\", price=150),\n",
        "    Home(id=4, home_type=\"Entier home/apt\", price=89),\n",
        "    Home(id=5, home_type=\"Entier home/apt\", price=80),\n",
        "]\n",
        "\n",
        "# SELECT home_type, AVG(price) FROM rental_collection GROUP BY home_type\n",
        "\n",
        "def MAP(key, value):\n",
        "  yield (value.home_type, value.price)\n",
        "\n",
        "def REDUCE(key, rows):\n",
        "  yield (key, sum(rows) / len(rows))\n",
        "\n",
        "def RECORDREADER():\n",
        "  return [(index, u) for index, u in enumerate(rental_collection)]\n",
        "\n",
        "output = MapReduce(RECORDREADER, MAP, REDUCE)\n",
        "output = list(sorted(output))\n",
        "output"
      ],
      "execution_count": 64,
      "outputs": [
        {
          "output_type": "execute_result",
          "data": {
            "text/plain": [
              "[('Entier home/apt', 131.33333333333334), ('Private room', 149.5)]"
            ]
          },
          "metadata": {},
          "execution_count": 64
        }
      ]
    },
    {
      "cell_type": "markdown",
      "metadata": {
        "id": "IIrRgvG4RIS4"
      },
      "source": [
        "### Matrix-Vector multiplication\n",
        "\n",
        "Случай, когда вектор не помещается в памяти Map задачи\n",
        "\n",
        "http://infolab.stanford.edu/~ullman/mmds/book.pdf page 50\n"
      ]
    },
    {
      "cell_type": "code",
      "metadata": {
        "id": "KQhDbiL3zS9r",
        "colab": {
          "base_uri": "https://localhost:8080/"
        },
        "outputId": "3d7aa4c3-450c-40fc-e825-860f3503d5c9"
      },
      "source": [
        "ROWS = 5\n",
        "COLS = 4\n",
        "STRIPES = 2\n",
        "\n",
        "COLS_IN_STRIPE = COLS // STRIPES\n",
        "\n",
        "\n",
        "M = [np.ones((ROWS, COLS_IN_STRIPE)) for i in range(STRIPES)]\n",
        "\n",
        "v = [np.random.rand(COLS_IN_STRIPE) for i in range(STRIPES)]\n",
        "\n",
        "\n",
        "def MAP(coordinates: Tuple[int, int], value: int):\n",
        "  i, j = coordinates\n",
        "  yield (i, value * vec[j])\n",
        "\n",
        "def REDUCE(i: int, products: Iterator[NamedTuple]):\n",
        "  print(i, products)\n",
        "  sum = 0\n",
        "  for p in products:\n",
        "    sum += p\n",
        "  yield (i, sum)\n",
        "\n",
        "def RECORDREADER():\n",
        "  global vec\n",
        "  for stripe_index, stripe in enumerate(M):\n",
        "    vec = v[stripe_index]\n",
        "    for i in range(stripe.shape[0]):\n",
        "      for j in range(stripe.shape[1]):\n",
        "        yield ((i, j), stripe[i, j])\n",
        "\n",
        "print(M)\n",
        "print(v)\n",
        "output = MapReduce(RECORDREADER, MAP, REDUCE)\n",
        "output = list(output)\n",
        "output"
      ],
      "execution_count": 65,
      "outputs": [
        {
          "output_type": "stream",
          "name": "stdout",
          "text": [
            "[array([[1., 1.],\n",
            "       [1., 1.],\n",
            "       [1., 1.],\n",
            "       [1., 1.],\n",
            "       [1., 1.]]), array([[1., 1.],\n",
            "       [1., 1.],\n",
            "       [1., 1.],\n",
            "       [1., 1.],\n",
            "       [1., 1.]])]\n",
            "[array([0.00872527, 0.51527751]), array([0.26183578, 0.38090398])]\n",
            "0 [0.008725274872762645, 0.5152775090850913, 0.2618357835707126, 0.38090398247121704]\n",
            "1 [0.008725274872762645, 0.5152775090850913, 0.2618357835707126, 0.38090398247121704]\n",
            "2 [0.008725274872762645, 0.5152775090850913, 0.2618357835707126, 0.38090398247121704]\n",
            "3 [0.008725274872762645, 0.5152775090850913, 0.2618357835707126, 0.38090398247121704]\n",
            "4 [0.008725274872762645, 0.5152775090850913, 0.2618357835707126, 0.38090398247121704]\n"
          ]
        },
        {
          "output_type": "execute_result",
          "data": {
            "text/plain": [
              "[(0, 1.1667425499997837),\n",
              " (1, 1.1667425499997837),\n",
              " (2, 1.1667425499997837),\n",
              " (3, 1.1667425499997837),\n",
              " (4, 1.1667425499997837)]"
            ]
          },
          "metadata": {},
          "execution_count": 65
        }
      ]
    },
    {
      "cell_type": "markdown",
      "metadata": {
        "id": "GIo2t7nNxvA9"
      },
      "source": [
        "## Matrix multiplication (Перемножение матриц)\n",
        "\n",
        "Если у нас есть матрица $M$ с элементами $m_{ij}$ в строке $i$ и столбце $j$, и матрица $N$ с элементами $n_{jk}$ в строке $j$ и столбце $k$, тогда их произведение $P = MN$ есть матрица $P$ с элементами $p_{ik}$ в строке $i$ и столбце $k$, где\n",
        "\n",
        "$$p_{ik} =\\sum_{j} m_{ij}n_{jk}$$\n",
        "\n",
        "Необходимым требованием является одинаковое количество столбцов в $M$ и строк в $N$, чтобы операция суммирования по  $j$ была осмысленной. Мы можем размышлять о матрице, как об отношении с тремя атрибутами: номер строки, номер столбца, само значение. Таким образом матрица $M$ предстваляется как отношение $ M(I, J, V )$, с кортежами $(i, j, m_{ij})$, и, аналогично, матрица $N$ представляется как отношение $N(J, K, W)$, с кортежами $(j, k, n_{jk})$. Так как большие матрицы как правило разреженные (большинство значений равно 0), и так как мы можем нулевыми значениями пренебречь (не хранить), такое реляционное представление достаточно эффективно для больших матриц. Однако, возможно, что координаты $i$, $j$, и $k$ неявно закодированы в смещение позиции элемента относительно начала файла, вместо явного хранения. Тогда, функция Map (или Reader) должна быть разработана таким образом, чтобы реконструировать компоненты $I$, $J$, и $K$ кортежей из смещения.\n",
        "\n",
        "Произведение $MN$ это фактически join, за которым следуют группировка по ключу и аггрегация. Таким образом join отношений $M(I, J, V )$ и $N(J, K, W)$, имеющих общим только атрибут $J$, создаст кортежи $(i, j, k, v, w)$ из каждого кортежа $(i, j, v) \\in M$ и кортежа $(j, k, w) \\in N$. Такой 5 компонентный кортеж представляет пару элементов матрицы $(m_{ij} , n_{jk})$. Что нам хотелось бы получить на самом деле, это произведение этих элементов, то есть, 4 компонентный кортеж$(i, j, k, v \\times w)$, так как он представляет произведение $m_{ij}n_{jk}$. Мы представляем отношение как результат одной MapReduce операции, в которой мы можем произвести группировку и аггрегацию, с $I$ и $K$  атрибутами, по которым идёт группировка, и суммой  $V \\times W$.\n",
        "\n",
        "\n",
        "\n"
      ]
    },
    {
      "cell_type": "code",
      "metadata": {
        "id": "1MBkGaLAYVCt"
      },
      "source": [
        "# MapReduce model\n",
        "def flatten(nested_iterable):\n",
        "  for iterable in nested_iterable:\n",
        "    for element in iterable:\n",
        "      yield element\n",
        "\n",
        "def groupbykey(iterable):\n",
        "  t = {}\n",
        "  for (k2, v2) in iterable:\n",
        "    t[k2] = t.get(k2, []) + [v2]\n",
        "  return t.items()\n",
        "\n",
        "def MapReduce(RECORDREADER, MAP, REDUCE):\n",
        "  return flatten(map(lambda x: REDUCE(*x), groupbykey(flatten(map(lambda x: MAP(*x), RECORDREADER())))))"
      ],
      "execution_count": 66,
      "outputs": []
    },
    {
      "cell_type": "markdown",
      "metadata": {
        "id": "sMspsOT0ZB35"
      },
      "source": [
        "Реализуйте перемножение матриц с использованием модельного кода MapReduce для одной машины в случае, когда одна матрица хранится в памяти, а другая генерируется RECORDREADER-ом."
      ]
    },
    {
      "cell_type": "code",
      "metadata": {
        "id": "psP1XekbsEjS"
      },
      "source": [
        "I = 2\n",
        "J = 3\n",
        "K = 4 * 10\n",
        "small_mat = np.random.rand(I, J)\n",
        "big_mat = np.random.rand(J, K)\n",
        "\n",
        "def RECORDREADER():\n",
        "  for j in range(J):\n",
        "    for k in range(K):\n",
        "      yield ((j, k), big_mat[j, k])\n",
        "\n",
        "def MAP(k1, v1):\n",
        "  (j, k) = k1\n",
        "  w = v1\n",
        "  for i in range(I):\n",
        "    yield ((i, k), small_mat[i, j] * w)\n",
        "\n",
        "def REDUCE(key, values):\n",
        "  (i, k) = key\n",
        "  yield ((i, k), sum(values))"
      ],
      "execution_count": 67,
      "outputs": []
    },
    {
      "cell_type": "markdown",
      "metadata": {
        "id": "rnt306LHhHrm"
      },
      "source": [
        "Проверьте своё решение"
      ]
    },
    {
      "cell_type": "code",
      "metadata": {
        "id": "Ewy_ZNYqW5a2",
        "colab": {
          "base_uri": "https://localhost:8080/"
        },
        "outputId": "4ac2d44a-705e-46f5-bbd1-5fbc6f9ae540"
      },
      "source": [
        "reference_solution = np.matmul(small_mat, big_mat)\n",
        "solution = MapReduce(RECORDREADER, MAP, REDUCE)\n",
        "\n",
        "def asmatrix(reduce_output):\n",
        "  reduce_output = list(reduce_output)\n",
        "  I = max(i for ((i, k), vw) in reduce_output) + 1\n",
        "  K = max(k for ((i, k), vw) in reduce_output) + 1\n",
        "  mat = np.empty(shape=(I, K))\n",
        "  for ((i, k), vw) in reduce_output:\n",
        "    mat[i, k] = vw\n",
        "  return mat\n",
        "\n",
        "np.allclose(reference_solution, asmatrix(solution))"
      ],
      "execution_count": 68,
      "outputs": [
        {
          "output_type": "execute_result",
          "data": {
            "text/plain": [
              "True"
            ]
          },
          "metadata": {},
          "execution_count": 68
        }
      ]
    },
    {
      "cell_type": "code",
      "metadata": {
        "id": "TK7v4CEcfxqf",
        "colab": {
          "base_uri": "https://localhost:8080/"
        },
        "outputId": "0cc51398-91b1-4411-acc0-8a428a6c39ed"
      },
      "source": [
        "reduce_output = list(MapReduce(RECORDREADER, MAP, REDUCE))\n",
        "max(i for ((i, k), vw) in reduce_output)"
      ],
      "execution_count": 69,
      "outputs": [
        {
          "output_type": "execute_result",
          "data": {
            "text/plain": [
              "1"
            ]
          },
          "metadata": {},
          "execution_count": 69
        }
      ]
    },
    {
      "cell_type": "markdown",
      "metadata": {
        "id": "i4yyg3kOZqJJ"
      },
      "source": [
        "Реализуйте перемножение матриц  с использованием модельного кода MapReduce для одной машины в случае, когда обе матрицы генерируются в RECORDREADER. Например, сначала одна, а потом другая."
      ]
    },
    {
      "cell_type": "markdown",
      "source": [
        "http://infolab.stanford.edu/~ullman/mmds/book.pdf page 55"
      ],
      "metadata": {
        "id": "om9KKrR30LIQ"
      }
    },
    {
      "cell_type": "code",
      "metadata": {
        "id": "3B7rIAJCaHZq",
        "colab": {
          "base_uri": "https://localhost:8080/"
        },
        "outputId": "5e83e0fb-55cd-4cbf-efc3-a06a0262118c"
      },
      "source": [
        "I = 2\n",
        "J = 3\n",
        "K = 4 * 10\n",
        "small_mat = np.random.rand(I, J)\n",
        "big_mat = np.random.rand(J, K)\n",
        "\n",
        "def RECORDREADER():\n",
        "  for i in range(I):\n",
        "    for j in range(J):\n",
        "      yield ((0, i, j), small_mat[i, j])\n",
        "\n",
        "  for j in range(J):\n",
        "    for k in range(K):\n",
        "      yield ((1, j, k), big_mat[j, k])\n",
        "\n",
        "def MAP(k1, v1):\n",
        "  (matrix_index, row_index, col_index) = k1\n",
        "  if matrix_index == 0:\n",
        "    yield (col_index, (matrix_index, row_index, v1))\n",
        "  else:\n",
        "    yield (row_index, (matrix_index, col_index, v1))\n",
        "\n",
        "\n",
        "def REDUCE(key, values):\n",
        "  first_matrix = [el for el in values if el[0] == 0]\n",
        "  second_matrix = [el for el in values if el[0] == 1]\n",
        "\n",
        "  for first_el in first_matrix:\n",
        "    for second_el in second_matrix:\n",
        "      (_, first_index, first_value) = first_el\n",
        "      (_, second_index, second_value) = second_el\n",
        "      yield ((first_index, second_index), first_value * second_value)\n",
        "\n",
        "\n",
        "def MAP_IDENTITY(*args):\n",
        "  yield args\n",
        "\n",
        "def REDUCE_AGREGATE(key, values):\n",
        "  yield (key, sum(values))\n",
        "\n",
        "def GET_RECORDREADER(iterable):\n",
        "  def func():\n",
        "    for el in iterable:\n",
        "      yield el\n",
        "  return func\n",
        "\n",
        "\n",
        "reference_solution = np.matmul(small_mat, big_mat)\n",
        "partial_solution = MapReduce(RECORDREADER, MAP, REDUCE)\n",
        "solution = MapReduce(GET_RECORDREADER(partial_solution), MAP_IDENTITY, REDUCE_AGREGATE)\n",
        "\n",
        "def asmatrix(reduce_output):\n",
        "  reduce_output = list(reduce_output)\n",
        "  I = max(i for ((i, k), vw) in reduce_output) + 1\n",
        "  K = max(k for ((i, k), vw) in reduce_output) + 1\n",
        "  mat = np.empty(shape=(I, K))\n",
        "  for ((i, k), vw) in reduce_output:\n",
        "    mat[i, k] = vw\n",
        "  return mat\n",
        "\n",
        "np.allclose(reference_solution, asmatrix(solution)) # should return true"
      ],
      "execution_count": 70,
      "outputs": [
        {
          "output_type": "execute_result",
          "data": {
            "text/plain": [
              "True"
            ]
          },
          "metadata": {},
          "execution_count": 70
        }
      ]
    },
    {
      "cell_type": "markdown",
      "metadata": {
        "id": "mXyzQi1DaIwo"
      },
      "source": [
        "Реализуйте перемножение матриц с использованием модельного кода MapReduce Distributed, когда каждая матрица генерируется в своём RECORDREADER."
      ]
    },
    {
      "cell_type": "code",
      "metadata": {
        "id": "TDM_s78Rb5eR",
        "colab": {
          "base_uri": "https://localhost:8080/"
        },
        "outputId": "082879f3-1b25-46e9-83b9-400e1a159484"
      },
      "source": [
        "I = 2\n",
        "J = 3\n",
        "K = 4 * 10\n",
        "small_mat = np.random.rand(I, J)\n",
        "big_mat = np.random.rand(J, K)\n",
        "\n",
        "maps = 2\n",
        "reducers = 2\n",
        "\n",
        "def INPUTFORMAT():\n",
        "  def RECORDREADER(index, matrix):\n",
        "    rows, cols = matrix.shape\n",
        "    for i in range(rows):\n",
        "      for j in range(cols):\n",
        "        yield ((index, i, j), matrix[i, j])\n",
        "\n",
        "  yield RECORDREADER(0, small_mat)\n",
        "  yield RECORDREADER(1, big_mat)\n",
        "\n",
        "def MAP(k1, v1):\n",
        "  (matrix_index, row_index, col_index) = k1\n",
        "\n",
        "  if matrix_index == 0:\n",
        "    yield (col_index, (matrix_index, row_index, v1))\n",
        "  else:\n",
        "    yield (row_index, (matrix_index, col_index, v1))\n",
        "\n",
        "def REDUCE(key, values):\n",
        "  first_matrix = [el for el in values if el[0] == 0]\n",
        "  second_matrix = [el for el in values if el[0] == 1]\n",
        "\n",
        "  for first_el in first_matrix:\n",
        "    for second_el in second_matrix:\n",
        "      (_, first_index, first_value) = first_el\n",
        "      (_, second_index, second_value) = second_el\n",
        "      yield ((first_index, second_index), first_value * second_value)\n",
        "\n",
        "def MAP_IDENTITY(*args):\n",
        "  yield args\n",
        "\n",
        "def REDUCE_AGREGATE(key, values):\n",
        "  yield (key, sum(values))\n",
        "\n",
        "def GET_INPUTFORMAT(iterable):\n",
        "  def func():\n",
        "    for el in iterable:\n",
        "      yield el[1]\n",
        "  return func\n",
        "\n",
        "reference_solution = np.matmul(small_mat, big_mat)\n",
        "\n",
        "partitioned_output = MapReduceDistributed(INPUTFORMAT, MAP, REDUCE, COMBINER=None)\n",
        "partitioned_output = [(partition_id, list(partition)) for (partition_id, partition) in partitioned_output]\n",
        "\n",
        "solution = MapReduceDistributed(GET_INPUTFORMAT(partitioned_output), MAP_IDENTITY, REDUCE_AGREGATE, COMBINER=None)\n",
        "solution = [(partition_id, list(partition)) for (partition_id, partition) in solution]\n",
        "\n",
        "solution_unpacked = []\n",
        "for value in solution:\n",
        "  for v in value[1]:\n",
        "    solution_unpacked.append(v)\n",
        "\n",
        "def asmatrix(reduce_output):\n",
        "  reduce_output = list(reduce_output)\n",
        "  I = max(i for ((i, k), vw) in reduce_output) + 1\n",
        "  K = max(k for ((i, k), vw) in reduce_output) + 1\n",
        "  mat = np.empty(shape=(I, K))\n",
        "  for ((i, k), vw) in reduce_output:\n",
        "    mat[i, k] = vw\n",
        "  return mat\n",
        "\n",
        "np.allclose(reference_solution, asmatrix(solution_unpacked)) # should return true"
      ],
      "execution_count": 71,
      "outputs": [
        {
          "output_type": "stream",
          "name": "stdout",
          "text": [
            "126 key-value pairs were sent over a network.\n",
            "240 key-value pairs were sent over a network.\n"
          ]
        },
        {
          "output_type": "execute_result",
          "data": {
            "text/plain": [
              "True"
            ]
          },
          "metadata": {},
          "execution_count": 71
        }
      ]
    },
    {
      "cell_type": "markdown",
      "metadata": {
        "id": "ZuSA2P9Db6UM"
      },
      "source": [
        "Обобщите предыдущее решение на случай, когда каждая матрица генерируется несколькими RECORDREADER-ами, и проверьте его работоспособность. Будет ли работать решение, если RECORDREADER-ы будут генерировать случайное подмножество элементов матрицы?"
      ]
    },
    {
      "cell_type": "code",
      "metadata": {
        "id": "ehN0FqRDcwU5",
        "colab": {
          "base_uri": "https://localhost:8080/"
        },
        "outputId": "f72488a7-80a8-45d6-f051-7d6b74d6e6ca"
      },
      "source": [
        "I = 2\n",
        "J = 3\n",
        "K = 4\n",
        "small_mat = np.random.rand(I, J)\n",
        "big_mat = np.random.rand(J, K)\n",
        "\n",
        "maps = 2\n",
        "reducers = 2\n",
        "\n",
        "def INPUTFORMAT():\n",
        "  def RECORDREADER(index, matrix, shift):\n",
        "    rows, cols = matrix.shape\n",
        "    for i in range(rows):\n",
        "      for j in range(cols):\n",
        "        yield ((index, i + shift, j), matrix[i, j])\n",
        "\n",
        "  split_size = int(np.ceil(len(small_mat) / maps))\n",
        "\n",
        "  for i in range(0, len(small_mat), split_size):\n",
        "    yield RECORDREADER(0, small_mat[i:i + split_size], i)\n",
        "\n",
        "  split_size = int(np.ceil(len(big_mat) / maps))\n",
        "\n",
        "  for i in range(0, len(big_mat), split_size):\n",
        "    yield RECORDREADER(1, big_mat[i:i + split_size], i)\n",
        "\n",
        "def MAP(k1, v1):\n",
        "  (matrix_index, row_index, col_index) = k1\n",
        "\n",
        "  if matrix_index == 0:\n",
        "    yield (col_index, (matrix_index, row_index, v1))\n",
        "  else:\n",
        "    yield (row_index, (matrix_index, col_index, v1))\n",
        "\n",
        "def REDUCE(key, values):\n",
        "  first_matrix = [el for el in values if el[0] == 0]\n",
        "  second_matrix = [el for el in values if el[0] == 1]\n",
        "\n",
        "  for first_el in first_matrix:\n",
        "    for second_el in second_matrix:\n",
        "      (_, first_index, first_value) = first_el\n",
        "      (_, second_index, second_value) = second_el\n",
        "      yield ((first_index, second_index), first_value * second_value)\n",
        "\n",
        "def MAP_IDENTITY(*args):\n",
        "  yield args\n",
        "\n",
        "def REDUCE_AGREGATE(key, values):\n",
        "  yield (key, sum(values))\n",
        "\n",
        "def GET_INPUTFORMAT(iterable):\n",
        "  def func():\n",
        "    for el in iterable:\n",
        "      yield el[1]\n",
        "  return func\n",
        "\n",
        "reference_solution = np.matmul(small_mat, big_mat)\n",
        "\n",
        "partitioned_output = MapReduceDistributed(INPUTFORMAT, MAP, REDUCE, COMBINER=None)\n",
        "partitioned_output = [(partition_id, list(partition)) for (partition_id, partition) in partitioned_output]\n",
        "\n",
        "solution = MapReduceDistributed(GET_INPUTFORMAT(partitioned_output), MAP_IDENTITY, REDUCE_AGREGATE, COMBINER=None)\n",
        "solution = [(partition_id, list(partition)) for (partition_id, partition) in solution]\n",
        "\n",
        "solution_unpacked = []\n",
        "for value in solution:\n",
        "  for v in value[1]:\n",
        "    solution_unpacked.append(v)\n",
        "\n",
        "def asmatrix(reduce_output):\n",
        "  reduce_output = list(reduce_output)\n",
        "  I = max(i for ((i, k), vw) in reduce_output) + 1\n",
        "  K = max(k for ((i, k), vw) in reduce_output) + 1\n",
        "  mat = np.empty(shape=(I, K))\n",
        "  for ((i, k), vw) in reduce_output:\n",
        "    mat[i, k] = vw\n",
        "  return mat\n",
        "\n",
        "np.allclose(reference_solution, asmatrix(solution_unpacked)) # should return true"
      ],
      "execution_count": 72,
      "outputs": [
        {
          "output_type": "stream",
          "name": "stdout",
          "text": [
            "18 key-value pairs were sent over a network.\n",
            "24 key-value pairs were sent over a network.\n"
          ]
        },
        {
          "output_type": "execute_result",
          "data": {
            "text/plain": [
              "True"
            ]
          },
          "metadata": {},
          "execution_count": 72
        }
      ]
    }
  ]
}