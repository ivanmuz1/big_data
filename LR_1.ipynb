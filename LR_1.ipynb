{
  "cells": [
    {
      "cell_type": "code",
      "source": [
        "!pip3 install pyspark==3.0.0\n",
        "!pip install geopy"
      ],
      "metadata": {
        "id": "UNTWiyaoalWB"
      },
      "id": "UNTWiyaoalWB",
      "execution_count": null,
      "outputs": []
    },
    {
      "cell_type": "code",
      "execution_count": null,
      "id": "5d881463-22b9-4cb2-856c-653ef484729b",
      "metadata": {
        "id": "5d881463-22b9-4cb2-856c-653ef484729b"
      },
      "outputs": [],
      "source": [
        "from pyspark import SparkContext, SparkConf\n",
        "from pyspark.sql import SparkSession\n",
        "from pyspark.sql import functions as F\n",
        "from pyspark.sql.functions import col\n",
        "from geopy.distance import geodesic\n",
        "from pyspark.sql.functions import countDistinct\n",
        "import pyspark.sql as sql\n",
        "from pyspark.sql.functions import col"
      ]
    },
    {
      "cell_type": "code",
      "execution_count": null,
      "id": "7be967db-1995-4d25-b6a8-66b2c1667b3e",
      "metadata": {
        "colab": {
          "base_uri": "https://localhost:8080/",
          "height": 196
        },
        "id": "7be967db-1995-4d25-b6a8-66b2c1667b3e",
        "outputId": "c1d9586c-a9ba-493f-872d-d9614a6ea2c4"
      },
      "outputs": [
        {
          "output_type": "execute_result",
          "data": {
            "text/plain": [
              "<SparkContext master=local[*] appName=pyspark-shell>"
            ],
            "text/html": [
              "\n",
              "        <div>\n",
              "            <p><b>SparkContext</b></p>\n",
              "\n",
              "            <p><a href=\"http://09ede1316a44:4040\">Spark UI</a></p>\n",
              "\n",
              "            <dl>\n",
              "              <dt>Version</dt>\n",
              "                <dd><code>v3.0.0</code></dd>\n",
              "              <dt>Master</dt>\n",
              "                <dd><code>local[*]</code></dd>\n",
              "              <dt>AppName</dt>\n",
              "                <dd><code>pyspark-shell</code></dd>\n",
              "            </dl>\n",
              "        </div>\n",
              "        "
            ]
          },
          "metadata": {},
          "execution_count": 4
        }
      ],
      "source": [
        "try:\n",
        "    sc = SparkContext.getOrCreate()\n",
        "    sc.setLogLevel(\"ERROR\")\n",
        "except:\n",
        "    conf = SparkConf().setAppName(\"Lab1\").setMaster('local[1]')\n",
        "    sc = SparkContext(conf=conf)\n",
        "    sc.setLogLevel(\"ERROR\")\n",
        "spark = SparkSession(sc)\n",
        "\n",
        "sc"
      ]
    },
    {
      "cell_type": "code",
      "source": [
        "import requests\n",
        "\n",
        "with open(\"stations.csv\", \"wb\") as f:\n",
        "    request = requests.get(\"https://git.ai.ssau.ru/tk/big_data/raw/branch/bachelor/data/stations.csv\")\n",
        "    f.write(request.content)\n",
        "\n",
        "with open(\"trips.csv\", \"wb\") as f:\n",
        "    request = requests.get(\"https://git.ai.ssau.ru/tk/big_data/raw/branch/bachelor/data/trips.csv\")\n",
        "    f.write(request.content)"
      ],
      "metadata": {
        "id": "EBBQZjgqeOOs"
      },
      "id": "EBBQZjgqeOOs",
      "execution_count": null,
      "outputs": []
    },
    {
      "cell_type": "code",
      "execution_count": null,
      "id": "092e2f07-74cd-422d-a1e4-9f7d203ce939",
      "metadata": {
        "colab": {
          "base_uri": "https://localhost:8080/"
        },
        "id": "092e2f07-74cd-422d-a1e4-9f7d203ce939",
        "outputId": "a6977edf-5f86-41ff-86fb-f9e7e155cce5"
      },
      "outputs": [
        {
          "output_type": "stream",
          "name": "stdout",
          "text": [
            "DataFrame[id: int, duration: int, start_date: timestamp, start_station_name: string, start_station_id: int, end_date: timestamp, end_station_name: string, end_station_id: int, bike_id: int, subscription_type: string, zip_code: string]\n"
          ]
        }
      ],
      "source": [
        "tripData = (\n",
        "    spark.read\n",
        "    .option(\"header\", True)\n",
        "    .option(\"inferSchema\", True)\n",
        "    .option(\"timestampFormat\", 'M/d/y H:m')\n",
        "    .csv(\"trips.csv\")\n",
        ")\n",
        "\n",
        "print(tripData)"
      ]
    },
    {
      "cell_type": "code",
      "execution_count": null,
      "id": "016a7b75-db1a-4043-9d2e-892c95f61fc4",
      "metadata": {
        "colab": {
          "base_uri": "https://localhost:8080/"
        },
        "id": "016a7b75-db1a-4043-9d2e-892c95f61fc4",
        "outputId": "6a96facd-e479-4712-e82b-8d16d1dc290d"
      },
      "outputs": [
        {
          "output_type": "stream",
          "name": "stdout",
          "text": [
            "DataFrame[id: int, name: string, lat: double, long: double, dock_count: int, city: string, installation_date: timestamp]\n"
          ]
        }
      ],
      "source": [
        "stationData = (\n",
        "    spark.read\n",
        "    .option(\"header\", True)\n",
        "    .option(\"inferSchema\", True)\n",
        "    .option(\"timestampFormat\", 'M/d/y')\n",
        "    .csv(\"stations.csv\")\n",
        ")\n",
        "\n",
        "print(stationData)"
      ]
    },
    {
      "cell_type": "markdown",
      "id": "052596ee-de0f-4587-b9e2-229d64b9bbc7",
      "metadata": {
        "id": "052596ee-de0f-4587-b9e2-229d64b9bbc7"
      },
      "source": [
        "Задание №1: Найти велосипед с максимальным временем пробега"
      ]
    },
    {
      "cell_type": "code",
      "execution_count": null,
      "id": "b1b52b35-44a7-4fb8-9acf-e2933d1250ea",
      "metadata": {
        "colab": {
          "base_uri": "https://localhost:8080/"
        },
        "id": "b1b52b35-44a7-4fb8-9acf-e2933d1250ea",
        "outputId": "310cc542-6c24-4df8-da1c-ba91a440a951"
      },
      "outputs": [
        {
          "output_type": "stream",
          "name": "stdout",
          "text": [
            "Row(bike_id=535, total_duration=18611693)\n"
          ]
        }
      ],
      "source": [
        "result = (\n",
        "    tripData\n",
        "    .groupBy(\"bike_id\")\n",
        "    .agg(F.sum(\"duration\").alias(\"total_duration\"))\n",
        "    .orderBy(F.desc(\"total_duration\"))\n",
        "    .first()\n",
        ")\n",
        "\n",
        "print(result)"
      ]
    },
    {
      "cell_type": "markdown",
      "id": "e887a815-86ca-464c-bbda-bb72a76adff1",
      "metadata": {
        "id": "e887a815-86ca-464c-bbda-bb72a76adff1"
      },
      "source": [
        "Задание 2: Найти наибольшее геодезическое расстояние между станциями."
      ]
    },
    {
      "cell_type": "code",
      "execution_count": null,
      "id": "ccc734b9-10c5-48da-8d62-06b6bb1449ac",
      "metadata": {
        "colab": {
          "base_uri": "https://localhost:8080/"
        },
        "id": "ccc734b9-10c5-48da-8d62-06b6bb1449ac",
        "outputId": "107646e3-7900-40ff-93ac-6a58a3a99247"
      },
      "outputs": [
        {
          "output_type": "execute_result",
          "data": {
            "text/plain": [
              "Row(station1=24, station2=36, distance='9.669526104642657')"
            ]
          },
          "metadata": {},
          "execution_count": 57
        }
      ],
      "source": [
        "stations_coordinates = (\n",
        "    stationData\n",
        "    .select(\"id\", \"lat\", \"long\")\n",
        "    .withColumnRenamed(\"lat\", \"lat1\")\n",
        "    .withColumnRenamed(\"long\", \"long1\")\n",
        ").createOrReplaceTempView(\"stations_coordinates\")\n",
        "\n",
        "\n",
        "station_combinations = (\n",
        "    stations_coordinates.alias(\"a\")\n",
        "    .crossJoin(stations_coordinates.alias(\"b\"))\n",
        "    .where(col(\"a.id\") < col(\"b.id\"))\n",
        "    .select(col(\"a.id\").alias(\"station1\"), col(\"b.id\").alias(\"station2\"), \"a.lat1\", \"a.long1\", col(\"b.lat1\").alias(\"lat2\"), col(\"b.long1\").alias(\"long2\"))\n",
        ")\n",
        "\n",
        "def calculate_distance(lat1, lon1, lat2, lon2):\n",
        "    return geodesic((lat1, lon1), (lat2, lon2)).kilometers\n",
        "\n",
        "calculate_distance_udf = spark.udf.register(\"calculate_distance\", calculate_distance)\n",
        "\n",
        "result = station_combinations.withColumn(\"distance\", calculate_distance_udf(\"lat1\", \"long1\", \"lat2\", \"long2\"))\n",
        "\n",
        "max_distance = result.select(\"station1\", \"station2\", \"distance\").orderBy(col(\"distance\").desc()).first()\n",
        "\n",
        "max_distance"
      ]
    },
    {
      "cell_type": "code",
      "execution_count": null,
      "id": "c906d29e-f499-4edf-838b-e84d42adf42a",
      "metadata": {
        "colab": {
          "base_uri": "https://localhost:8080/"
        },
        "id": "c906d29e-f499-4edf-838b-e84d42adf42a",
        "outputId": "678be197-ff08-4796-d642-2142714ee752"
      },
      "outputs": [
        {
          "output_type": "stream",
          "name": "stdout",
          "text": [
            "+--------------------+--------------------+------------------+\n",
            "|                name|    end_station_name|          distance|\n",
            "+--------------------+--------------------+------------------+\n",
            "|       2nd at Folsom|South Van Ness at...|2.3150845505323323|\n",
            "|South Van Ness at...|       2nd at Folsom|2.3150845505323323|\n",
            "+--------------------+--------------------+------------------+\n",
            "\n"
          ]
        }
      ],
      "source": [
        "max_duration_trip = (\n",
        "    tripData\n",
        "    .orderBy(col(\"duration\").desc())\n",
        "    .limit(1)\n",
        "    .select(\"start_station_name\", \"end_station_name\")\n",
        "    .first()\n",
        ")\n",
        "\n",
        "filtered_joined_station = (\n",
        "    stationData\n",
        "    .filter((col(\"name\") == max_duration_trip.start_station_name) | (col(\"name\") == max_duration_trip.end_station_name))\n",
        ")\n",
        "\n",
        "result = (\n",
        "    filtered_joined_station\n",
        "    .crossJoin(filtered_joined_station.select(col(\"name\").alias(\"end_station_name\"), col(\"lat\").alias(\"end_lat\"), col(\"long\").alias(\"end_long\")))\n",
        "    .withColumn(\"distance\", calculate_distance_udf(col(\"lat\"), col(\"long\"), col(\"end_lat\"), col(\"end_long\")))\n",
        "    .select(\"name\", \"end_station_name\", \"distance\")\n",
        "    .filter((col(\"name\") != col(\"end_station_name\")) & (col(\"distance\") != 0))\n",
        ")\n",
        "\n",
        "result.show()"
      ]
    },
    {
      "cell_type": "markdown",
      "id": "84bc4ea1-5d64-480f-8c2b-1fbb5e40e0cf",
      "metadata": {
        "id": "84bc4ea1-5d64-480f-8c2b-1fbb5e40e0cf"
      },
      "source": [
        "Задание 4. Найти количество велосипедов в системе."
      ]
    },
    {
      "cell_type": "code",
      "execution_count": null,
      "id": "9f9b7f50-057f-40e9-ba6c-5eaf5604e5b0",
      "metadata": {
        "colab": {
          "base_uri": "https://localhost:8080/"
        },
        "id": "9f9b7f50-057f-40e9-ba6c-5eaf5604e5b0",
        "outputId": "b4468f0b-fe11-4a8c-8524-458b3d811985"
      },
      "outputs": [
        {
          "output_type": "execute_result",
          "data": {
            "text/plain": [
              "Row(count(DISTINCT bike_id)=700)"
            ]
          },
          "metadata": {},
          "execution_count": 66
        }
      ],
      "source": [
        "bike_count = (\n",
        "    tripData\n",
        "    .select(countDistinct(\"bike_id\"))\n",
        "    .first()\n",
        ")\n",
        "\n",
        "bike_count"
      ]
    },
    {
      "cell_type": "markdown",
      "id": "332fa12f-3928-4fcf-b761-f769d87f3c64",
      "metadata": {
        "id": "332fa12f-3928-4fcf-b761-f769d87f3c64"
      },
      "source": [
        "Задание 5. Найти пользователей потративших на поездки более 3 часов."
      ]
    },
    {
      "cell_type": "code",
      "execution_count": null,
      "id": "0d5a85c6-d85f-4ed1-bbb6-9ec2ecf9478a",
      "metadata": {
        "colab": {
          "base_uri": "https://localhost:8080/"
        },
        "id": "0d5a85c6-d85f-4ed1-bbb6-9ec2ecf9478a",
        "outputId": "3ef5526f-c37e-4f49-e4b1-b5b3a63e7672"
      },
      "outputs": [
        {
          "output_type": "stream",
          "name": "stdout",
          "text": [
            "+------+------------+\n",
            "|    id|sum_duration|\n",
            "+------+------------+\n",
            "|  6654|       17751|\n",
            "| 22097|       21686|\n",
            "| 22223|       15619|\n",
            "| 30654|       13479|\n",
            "| 34759|       17959|\n",
            "| 43688|       22504|\n",
            "| 88666|       21964|\n",
            "| 88674|       13726|\n",
            "|105536|       19854|\n",
            "|143153|       20649|\n",
            "|146988|       44084|\n",
            "|189310|       21785|\n",
            "|431881|       28377|\n",
            "|431018|       12301|\n",
            "|427387|       12612|\n",
            "|418759|       15526|\n",
            "|418461|       15103|\n",
            "|410754|       16743|\n",
            "|386707|       14313|\n",
            "|305619|       12412|\n",
            "+------+------------+\n",
            "only showing top 20 rows\n",
            "\n"
          ]
        }
      ],
      "source": [
        "from pyspark.sql.functions import sum as F_sum\n",
        "\n",
        "grouped_data = (\n",
        "    tripData\n",
        "    .groupBy(\"id\")\n",
        "    .agg(F_sum(\"duration\").alias(\"sum_duration\"))\n",
        "    .withColumnRenamed(\"sum_duration\", \"sum_duration\")\n",
        ")\n",
        "\n",
        "filtered_data = grouped_data.filter(col(\"sum_duration\") > 10800)\n",
        "\n",
        "filtered_data.show()"
      ]
    },
    {
      "cell_type": "code",
      "execution_count": null,
      "id": "388578e9-f4e4-4b5e-bdd9-9189c2421090",
      "metadata": {
        "id": "388578e9-f4e4-4b5e-bdd9-9189c2421090"
      },
      "outputs": [],
      "source": [
        "sc.stop()"
      ]
    }
  ],
  "metadata": {
    "kernelspec": {
      "display_name": "Python 3",
      "language": "python",
      "name": "python3"
    },
    "language_info": {
      "codemirror_mode": {
        "name": "ipython",
        "version": 3
      },
      "file_extension": ".py",
      "mimetype": "text/x-python",
      "name": "python",
      "nbconvert_exporter": "python",
      "pygments_lexer": "ipython3",
      "version": "3.9.5"
    },
    "colab": {
      "provenance": []
    }
  },
  "nbformat": 4,
  "nbformat_minor": 5
}